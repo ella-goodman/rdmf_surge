{
 "cells": [
  {
   "cell_type": "markdown",
   "id": "065304e7-4966-4b60-8cdb-1712856acec5",
   "metadata": {
    "tags": []
   },
   "source": [
    "# Get Files From Buckets\n",
    "Quick guide to retrieve files from Buckets"
   ]
  },
  {
   "cell_type": "code",
   "execution_count": 54,
   "id": "84065a46-712b-4582-b617-1db127c029cc",
   "metadata": {
    "tags": []
   },
   "outputs": [],
   "source": [
    "# Imports\n",
    "import pandas as pd\n",
    "from google.cloud import storage\n",
    "\n",
    "# Variables\n",
    "client = storage.Client()\n",
    "bucket_name = \"rdmf_mock_data\"\n",
    "\n",
    "all_blobs = list(client.list_blobs(bucket_name))"
   ]
  },
  {
   "cell_type": "code",
   "execution_count": 60,
   "id": "6b462ea2-5ba4-44d7-9b08-d85e2dff4475",
   "metadata": {
    "tags": []
   },
   "outputs": [
    {
     "name": "stdout",
     "output_type": "stream",
     "text": [
      "gs://rdmf_mock_data/AI_mockdata.csv\n",
      "gs://rdmf_mock_data/BI_mockdata.csv\n",
      "gs://rdmf_mock_data/DI_mockdata.csv\n"
     ]
    }
   ],
   "source": [
    "for blob in all_blobs:\n",
    "    path = f\"gs://{bucket_name}/{blob.name}\"\n",
    "    print(path)\n"
   ]
  },
  {
   "cell_type": "markdown",
   "id": "50d96e98-d404-4eaf-9abc-9aeb865b04f9",
   "metadata": {
    "tags": []
   },
   "source": [
    "### Pandas"
   ]
  },
  {
   "cell_type": "code",
   "execution_count": 61,
   "id": "110fe926-4089-411c-ab1c-9ca4fb89b326",
   "metadata": {
    "tags": []
   },
   "outputs": [
    {
     "data": {
      "text/html": [
       "<div>\n",
       "<style scoped>\n",
       "    .dataframe tbody tr th:only-of-type {\n",
       "        vertical-align: middle;\n",
       "    }\n",
       "\n",
       "    .dataframe tbody tr th {\n",
       "        vertical-align: top;\n",
       "    }\n",
       "\n",
       "    .dataframe thead th {\n",
       "        text-align: right;\n",
       "    }\n",
       "</style>\n",
       "<table border=\"1\" class=\"dataframe\">\n",
       "  <thead>\n",
       "    <tr style=\"text-align: right;\">\n",
       "      <th></th>\n",
       "      <th>DI_ID</th>\n",
       "      <th>first_name</th>\n",
       "      <th>last_name</th>\n",
       "      <th>age</th>\n",
       "      <th>gender</th>\n",
       "      <th>ethnicity</th>\n",
       "      <th>paye_scheme_ref</th>\n",
       "      <th>UPRN</th>\n",
       "    </tr>\n",
       "  </thead>\n",
       "  <tbody>\n",
       "    <tr>\n",
       "      <th>0</th>\n",
       "      <td>404047554700033</td>\n",
       "      <td>Dodge</td>\n",
       "      <td>Barra do PiraÃ­</td>\n",
       "      <td>20</td>\n",
       "      <td>F</td>\n",
       "      <td>red</td>\n",
       "      <td>100747</td>\n",
       "      <td>950825570738</td>\n",
       "    </tr>\n",
       "  </tbody>\n",
       "</table>\n",
       "</div>"
      ],
      "text/plain": [
       "             DI_ID first_name        last_name  age gender ethnicity  \\\n",
       "0  404047554700033      Dodge  Barra do PiraÃ­   20      F       red   \n",
       "\n",
       "   paye_scheme_ref          UPRN  \n",
       "0           100747  950825570738  "
      ]
     },
     "execution_count": 61,
     "metadata": {},
     "output_type": "execute_result"
    }
   ],
   "source": [
    "pd.read_csv(path, encoding='latin-1').head(1)"
   ]
  },
  {
   "cell_type": "markdown",
   "id": "62512a93-34f3-4298-90c3-f0543a2b27ea",
   "metadata": {
    "tags": []
   },
   "source": [
    "### Pyspark"
   ]
  },
  {
   "cell_type": "code",
   "execution_count": 56,
   "id": "13aab396-f815-4537-b519-641bd342ec0c",
   "metadata": {
    "tags": []
   },
   "outputs": [],
   "source": [
    "spark = SparkSession.builder.appName(\"test\").getOrCreate()"
   ]
  },
  {
   "cell_type": "code",
   "execution_count": 59,
   "id": "4f51905e-e36a-4efc-8a84-3fa2623054fb",
   "metadata": {
    "tags": []
   },
   "outputs": [
    {
     "name": "stdout",
     "output_type": "stream",
     "text": [
      "-RECORD 0--------------------------\n",
      " DI_ID           | 404047554700033 \n",
      " first_name      | Dodge           \n",
      " last_name       | Barra do Piraí  \n",
      " age             | 20              \n",
      " gender          | F               \n",
      " ethnicity       | red             \n",
      " paye_scheme_ref | 100747          \n",
      " UPRN            | 950825570738    \n",
      "only showing top 1 row\n",
      "\n"
     ]
    }
   ],
   "source": [
    "df = spark.read.csv(path, header=True)\n",
    "df.show(1,vertical=True)"
   ]
  },
  {
   "cell_type": "code",
   "execution_count": null,
   "id": "1e1f3124-d5aa-47bb-9c9f-7e008c8fa035",
   "metadata": {
    "tags": []
   },
   "outputs": [],
   "source": []
  },
  {
   "cell_type": "code",
   "execution_count": null,
   "id": "b199771e-862b-47f1-9179-194cb4f2e0e3",
   "metadata": {},
   "outputs": [],
   "source": []
  },
  {
   "cell_type": "code",
   "execution_count": null,
   "id": "f4f5f743-16a8-497a-81aa-53a1551af69e",
   "metadata": {},
   "outputs": [],
   "source": []
  },
  {
   "cell_type": "code",
   "execution_count": null,
   "id": "55701448-17c8-4699-944e-f96744d3d4e5",
   "metadata": {},
   "outputs": [],
   "source": []
  }
 ],
 "metadata": {
  "kernelspec": {
   "display_name": "PySpark (Local)",
   "language": "python",
   "name": "pyspark"
  },
  "language_info": {
   "codemirror_mode": {
    "name": "ipython",
    "version": 3
   },
   "file_extension": ".py",
   "mimetype": "text/x-python",
   "name": "python",
   "nbconvert_exporter": "python",
   "pygments_lexer": "ipython3",
   "version": "3.10.13"
  }
 },
 "nbformat": 4,
 "nbformat_minor": 5
}
