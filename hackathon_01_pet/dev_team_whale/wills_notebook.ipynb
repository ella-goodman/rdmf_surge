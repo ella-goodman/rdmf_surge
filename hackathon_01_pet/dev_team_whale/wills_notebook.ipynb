{
 "cells": [
  {
   "cell_type": "markdown",
   "id": "6d93aeb4-128b-4d6b-88ba-a5ca74e60830",
   "metadata": {},
   "source": [
    "## Core functions"
   ]
  },
  {
   "cell_type": "code",
   "execution_count": null,
   "id": "9f706719-ad41-439a-aeed-358b13ef0ec5",
   "metadata": {},
   "outputs": [],
   "source": [
    "def ingest():\n",
    "    \"\"\"Brings table from BigQuery into Pyspark dataframe\"\"\"\n",
    "    pass"
   ]
  },
  {
   "cell_type": "code",
   "execution_count": null,
   "id": "fa9ff504-e7bc-4aa3-a486-6f7d0b266c9a",
   "metadata": {},
   "outputs": [],
   "source": [
    "def create_spark_session():\n",
    "    \"\"\"Creates the spark session that will be used to store and alter the data\"\"\"\n",
    "    pass"
   ]
  },
  {
   "cell_type": "code",
   "execution_count": null,
   "id": "e1a9c3f1-23a0-4b34-b220-9e8cf5fa13b6",
   "metadata": {},
   "outputs": [],
   "source": [
    "def shuffle_rows():\n",
    "    \"\"\"Shuffles the selected rows in a random order\"\"\"\n",
    "    pass"
   ]
  },
  {
   "cell_type": "code",
   "execution_count": null,
   "id": "81059bc5-0685-4c2d-9063-6abc5d639d14",
   "metadata": {},
   "outputs": [],
   "source": [
    "def store_request():\n",
    "    \"\"\"Stores the project code with information about which data were shared\"\"\"\n",
    "    # Should this be a bigquery relational db? Maybe Json?"
   ]
  },
  {
   "cell_type": "code",
   "execution_count": null,
   "id": "d6f5c1ba-c538-4cad-a294-ca2fbe151135",
   "metadata": {},
   "outputs": [],
   "source": [
    "def hash_ids():\n",
    "    \"\"\"Converts existing ids to hashed versions\"\"\"\n",
    "    pass"
   ]
  },
  {
   "cell_type": "code",
   "execution_count": null,
   "id": "ba1071c3-11ae-41fd-935c-90876041f94d",
   "metadata": {},
   "outputs": [],
   "source": [
    "def save_hashed_records():\n",
    "    \"\"\"Save the hashed files back to BigQuery tables or as CSV\"\"\"\n",
    "    # Output format is a question for product owner\n",
    "    pass"
   ]
  },
  {
   "cell_type": "markdown",
   "id": "78b1c55e-9dc4-4ef0-822e-790f26294725",
   "metadata": {},
   "source": [
    "## Nice to have"
   ]
  },
  {
   "cell_type": "code",
   "execution_count": null,
   "id": "5c348dd6-7143-4b06-a0ba-f10119164412",
   "metadata": {},
   "outputs": [],
   "source": [
    "def select_tables():\n",
    "    \"\"\"Some form of user input to select the correct tables\"\"\"\n",
    "    # Could be as simple as providing a text box for an SQL string\n",
    "    #Probably easier for the tables to be created separately and then the function called on them - is this a Cloud run thing?\n",
    "    pass"
   ]
  }
 ],
 "metadata": {
  "environment": {
   "kernel": "python3",
   "name": "tf2-cpu.2-11.m117",
   "type": "gcloud",
   "uri": "us-docker.pkg.dev/deeplearning-platform-release/gcr.io/tf2-cpu.2-11:m117"
  },
  "kernelspec": {
   "display_name": "Python 3",
   "language": "python",
   "name": "python3"
  },
  "language_info": {
   "codemirror_mode": {
    "name": "ipython",
    "version": 3
   },
   "file_extension": ".py",
   "mimetype": "text/x-python",
   "name": "python",
   "nbconvert_exporter": "python",
   "pygments_lexer": "ipython3",
   "version": "3.10.13"
  }
 },
 "nbformat": 4,
 "nbformat_minor": 5
}
