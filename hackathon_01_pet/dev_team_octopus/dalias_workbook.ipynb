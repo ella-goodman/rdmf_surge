{
 "cells": [
  {
   "cell_type": "markdown",
   "id": "4f969b1b-ae9d-485f-a756-9aaf52e91e2a",
   "metadata": {},
   "source": [
    "# Team Octopus: Pipeline Skeleton\n",
    "### This is the pseudocode for our pipeline plan for the RDMF surge hackathon"
   ]
  },
  {
   "cell_type": "markdown",
   "id": "83c20088-51c4-4771-b7fd-5ef89c1b2f1b",
   "metadata": {},
   "source": [
    "### Libraries import"
   ]
  },
  {
   "cell_type": "code",
   "execution_count": null,
   "id": "340ef8d1-2dad-42db-a983-f8504c2ddc35",
   "metadata": {},
   "outputs": [],
   "source": [
    "import pandas as pd \n",
    "from google.cloud import storage\n",
    "from cryptography.fernet import Fernet\n",
    "from datetime import datetime"
   ]
  },
  {
   "cell_type": "markdown",
   "id": "9f5d3f78-3749-4e76-89f9-3a558534cf0f",
   "metadata": {},
   "source": [
    "### Generate salt from today's date and customer name"
   ]
  },
  {
   "cell_type": "code",
   "execution_count": null,
   "id": "f881b7d4-4771-4d92-a4f5-c59841e33232",
   "metadata": {},
   "outputs": [],
   "source": [
    "class SaltGenerator:\n",
    "    def generate_salt(self, customer_name):\n",
    "        today_date = datetime.now().strftime(\"%Y-%m-%d\")\n",
    "        salt = f\"{today_date}_{customer_name}\"\n",
    "        return salt"
   ]
  },
  {
   "cell_type": "code",
   "execution_count": null,
   "id": "77b631c4-c132-496a-853c-3a534bdb2c86",
   "metadata": {},
   "outputs": [],
   "source": [
    "### Create an Encrypted Dataset Class"
   ]
  },
  {
   "cell_type": "code",
   "execution_count": 1,
   "id": "7268fedc-ae60-4d34-b258-1edb30e3a4c5",
   "metadata": {},
   "outputs": [
    {
     "ename": "SyntaxError",
     "evalue": "incomplete input (4210171793.py, line 32)",
     "output_type": "error",
     "traceback": [
      "\u001b[0;36m  Cell \u001b[0;32mIn[1], line 32\u001b[0;36m\u001b[0m\n\u001b[0;31m    # Function to apply the above to actually get the data and append it to the dataset?\u001b[0m\n\u001b[0m                                                                                        ^\u001b[0m\n\u001b[0;31mSyntaxError\u001b[0m\u001b[0;31m:\u001b[0m incomplete input\n"
     ]
    }
   ],
   "source": [
    "class EncryptedDataset:\n",
    "    def __init__(self, bucket_name, file_name, column_name, salt_generator):\n",
    "        self.bucket_name = bucket_name\n",
    "        self.file_name = file_name\n",
    "        self.column_name = column_name\n",
    "        self.salt_generator = salt_generator\n",
    "    \n",
    "    # Attribute to select ID column: select the BI_ID column\n",
    "    def select_column(self, dataset_path):\n",
    "        self.dataset = pd.read_csv(dataset_path)\n",
    "        selected_column = self.dataset[self.column_name]\n",
    "        return selected_column\n",
    "    \n",
    "    # Now use the Fernet library to encrypt the value; value is salted from the Salt Generator class\n",
    "    # Dependency injection - learned from Ed last week! :D\n",
    "    def encrypt_column_with_salt(self, selected_column, salt):\n",
    "        encrypted_values = []\n",
    "        key = Fernet.generate_key()\n",
    "        cipher_suite = Fernet(key)\n",
    "        \n",
    "        for value in selected_column:\n",
    "            # Combine the column value with the salt from the generator\n",
    "            salty_value = value + salt\n",
    "            \n",
    "            # Encrypt the combined value\n",
    "            encrypted_value = cipher_suite.encrypt(salty_value.encode())\n",
    "            encrypted_values.append(encrypted_value)\n",
    "\n",
    "        return encrypted_values, key"
   ]
  },
  {
   "cell_type": "markdown",
   "id": "9132a317-f466-4377-a5c6-ff9bf9ea70e8",
   "metadata": {},
   "source": [
    "### Usage example"
   ]
  },
  {
   "cell_type": "code",
   "execution_count": null,
   "id": "eec52627-462e-4abe-8520-40a5444f031e",
   "metadata": {},
   "outputs": [],
   "source": [
    "salt_generator = SaltGenerator()\n",
    "dataset = EncryptedDataset(\"rdmf_mock_data\", \"BI_mockdata.csv\", \"BI_ID\", salt_generator)"
   ]
  }
 ],
 "metadata": {
  "environment": {
   "kernel": "python3",
   "name": "tf2-cpu.2-11.m117",
   "type": "gcloud",
   "uri": "us-docker.pkg.dev/deeplearning-platform-release/gcr.io/tf2-cpu.2-11:m117"
  },
  "kernelspec": {
   "display_name": "Python 3",
   "language": "python",
   "name": "python3"
  },
  "language_info": {
   "codemirror_mode": {
    "name": "ipython",
    "version": 3
   },
   "file_extension": ".py",
   "mimetype": "text/x-python",
   "name": "python",
   "nbconvert_exporter": "python",
   "pygments_lexer": "ipython3",
   "version": "3.10.13"
  }
 },
 "nbformat": 4,
 "nbformat_minor": 5
}
