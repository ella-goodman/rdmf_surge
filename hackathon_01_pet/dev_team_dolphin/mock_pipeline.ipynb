{
 "cells": [
  {
   "cell_type": "markdown",
   "id": "1dc61df7-1486-4326-b568-c1678ee7c231",
   "metadata": {
    "tags": []
   },
   "source": [
    "# Mock Pipeline\n",
    "\n",
    "#### reaquest\n",
    " - Merge col?\n",
    " - public/private key equivolent\n",
    " - slat\n",
    " - password?\n",
    " \n",
    "    \n",
    "## Airflow"
   ]
  },
  {
   "cell_type": "markdown",
   "id": "63f66b7e-4c8f-466f-bf4f-0d7c5eb71a26",
   "metadata": {},
   "source": [
    "Request comes in ![image.png](attachment:e6cec65a-8fa3-45c5-a030-9e290409dbae.png)"
   ]
  },
  {
   "cell_type": "code",
   "execution_count": null,
   "id": "42c91661-097c-4ce7-883c-236a3b0fa829",
   "metadata": {},
   "outputs": [],
   "source": [
    "# Manual Step\n",
    "request = {\n",
    "    \"project_id\": ['004'],\n",
    "    \"customer_name\": ['company_d'],\n",
    "    \"customer_id\": 1234,\n",
    "    \"datee_stamp\": today,\n",
    "    \"encrypontion_method\": 6\n",
    "}\n"
   ]
  },
  {
   "cell_type": "code",
   "execution_count": null,
   "id": "6228bd42-7e8f-4868-81d7-81bcb25db415",
   "metadata": {},
   "outputs": [],
   "source": [
    "def validation(request):\n",
    "    \"\"\"check cols files, variablres\"\"\"\n",
    "    pass\n",
    "\n",
    "def create_project(request):\n",
    "    \"\"\"Writes to project table blpb\"\"\"\n",
    "    airflow_trigger\n",
    "    pass"
   ]
  },
  {
   "cell_type": "code",
   "execution_count": null,
   "id": "a9cd0254-d0be-4656-ab89-39c6ba96eed0",
   "metadata": {},
   "outputs": [],
   "source": [
    "def fetch_data():\n",
    "    \"\"\"Accessess blob from rdmf_moc_data/AI_mock_data\"\"\"\n",
    "    pass"
   ]
  },
  {
   "cell_type": "code",
   "execution_count": null,
   "id": "5e9c966a-ca62-4f35-8166-fa18149f7dab",
   "metadata": {},
   "outputs": [],
   "source": [
    "def merge_data_function():\n",
    "    \"\"\"Calls several fech_data() and merges\"\"\"\n",
    "    pass"
   ]
  },
  {
   "cell_type": "code",
   "execution_count": null,
   "id": "f08ba5d4-35de-45a1-8e25-80d4006f2c4d",
   "metadata": {},
   "outputs": [],
   "source": [
    "def encroption(date_stamp, company_id, method):\n",
    "    \"\"\"encryptes\n",
    "    sha256\n",
    "    bloom filters\n",
    "    hash\n",
    "    cryptography\n",
    "    \n",
    "    \"\"\"\n",
    "    \n",
    "def write_to_encrypted_table(request, project_table):\n",
    "    \"\"\"create project specefic encryapted table\n",
    "        \n",
    "    \"\"\"\n",
    "    meatadata = this\n",
    "    customer_name = request.custoemer_name\n",
    "    project_table.project_id\n",
    "    \n",
    "    project_blob_name = f\"{customer_name} {project_id}\"\n",
    "    pass\n"
   ]
  },
  {
   "cell_type": "code",
   "execution_count": null,
   "id": "b68a90a4-3d89-4e8e-84f3-4dbb0a04d248",
   "metadata": {},
   "outputs": [],
   "source": [
    "\n",
    "# Optional Step\n",
    "def decrypt_table(method):\n",
    "    \"\"\"tabke data and reverse encryption\"\"\"\n",
    "    pass\n",
    "\n",
    "# Optional Maunual Setp\n",
    "\"\"\"\n",
    "got to big query and amend data\n",
    "\"\"\""
   ]
  },
  {
   "cell_type": "code",
   "execution_count": null,
   "id": "443de09e-894e-4f2c-8957-84c66f57abd3",
   "metadata": {},
   "outputs": [],
   "source": [
    "# Manual Step\n",
    "\"\"\"spit_the_thing_out\"\"\"\n"
   ]
  },
  {
   "cell_type": "code",
   "execution_count": null,
   "id": "bd3cfd97-b28b-49ac-b0de-2e965f8021ac",
   "metadata": {},
   "outputs": [],
   "source": [
    "def delete_project_encrypted_table(project_id):\n",
    "    pass"
   ]
  },
  {
   "cell_type": "code",
   "execution_count": null,
   "id": "7e7755a0-f51d-4b0c-b51c-120648221a23",
   "metadata": {},
   "outputs": [],
   "source": []
  },
  {
   "cell_type": "code",
   "execution_count": null,
   "id": "01a2d9ce-05fd-413a-ac1d-6c92daa1a519",
   "metadata": {},
   "outputs": [],
   "source": []
  },
  {
   "cell_type": "code",
   "execution_count": null,
   "id": "64dfb3d7-230c-4bb3-b287-80091713a993",
   "metadata": {},
   "outputs": [],
   "source": []
  }
 ],
 "metadata": {
  "kernelspec": {
   "display_name": "PySpark (Local)",
   "language": "python",
   "name": "pyspark"
  },
  "language_info": {
   "codemirror_mode": {
    "name": "ipython",
    "version": 3
   },
   "file_extension": ".py",
   "mimetype": "text/x-python",
   "name": "python",
   "nbconvert_exporter": "python",
   "pygments_lexer": "ipython3",
   "version": "3.10.13"
  }
 },
 "nbformat": 4,
 "nbformat_minor": 5
}
