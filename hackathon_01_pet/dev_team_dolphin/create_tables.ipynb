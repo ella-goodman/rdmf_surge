{
 "cells": [
  {
   "cell_type": "code",
   "execution_count": 6,
   "id": "6595211e-ae1f-47e7-a133-5aee6db10f6f",
   "metadata": {
    "tags": []
   },
   "outputs": [],
   "source": [
    "# Imports\n",
    "import pandas as pd\n",
    "from google.cloud import storage\n",
    "\n",
    "# Variables\n",
    "client = storage.Client()\n",
    "bucket_name = \"rdmf_mock_data\"\n",
    "\n",
    "# all_blobs = list(client.list_blobs(bucket_name))\n",
    "\n",
    "# for blob in all_blobs:\n",
    "#     path = f\"gs://{bucket_name}/{blob.name}\"\n",
    "#     print(path)\n"
   ]
  },
  {
   "cell_type": "markdown",
   "id": "32be702e-f6b1-4a90-b6a4-6e512f7cd435",
   "metadata": {},
   "source": [
    "mermiad packecage. don't use the live one"
   ]
  },
  {
   "cell_type": "code",
   "execution_count": null,
   "id": "158f9059-d4ad-4795-9e57-842c6d5eac85",
   "metadata": {},
   "outputs": [],
   "source": []
  },
  {
   "cell_type": "code",
   "execution_count": null,
   "id": "47b28e0b-f28c-427b-856d-98598b6f00ff",
   "metadata": {},
   "outputs": [],
   "source": []
  },
  {
   "cell_type": "code",
   "execution_count": 3,
   "id": "8f613358-568b-4a7a-bc35-0b5bde17efc4",
   "metadata": {
    "tags": []
   },
   "outputs": [],
   "source": [
    "from datetime import date\n",
    "today = date.today()"
   ]
  },
  {
   "cell_type": "markdown",
   "id": "e27855bc-3328-4ff1-a592-623f2437c2df",
   "metadata": {},
   "source": [
    "\n",
    "# Create Blobs\n"
   ]
  },
  {
   "cell_type": "code",
   "execution_count": 14,
   "id": "13d44392-476b-4f2e-9bc8-3d3565f15443",
   "metadata": {
    "tags": []
   },
   "outputs": [],
   "source": [
    "# Project\n",
    "project_data = {\n",
    "    \"id\": ['001', '002', '003'],\n",
    "    \"name\": ['company_a', 'company_b', 'company_c'],\n",
    "    \"datee_stamp\": [today, today, today],\n",
    "    \"thing\": [1,1,1]\n",
    "}\n",
    "\n",
    "#load data into a DataFrame object:\n",
    "project_df = pd.DataFrame(project_data)\n",
    "# Convert the DataFrame to a CSV string\n",
    "projec_data = project_df.to_csv(index=False)\n",
    "\n",
    "\n",
    "bucket_name = 'rdmf_mock_data'\n",
    "bucket = client.get_bucket(bucket_name)\n",
    " \n",
    "blob_name = \"dolphin/project_table.csv\"\n",
    "blob = bucket.blob(blob_name)\n",
    "blob.upload_from_string(projec_data)\n"
   ]
  },
  {
   "cell_type": "markdown",
   "id": "fa1e9ae6-fc6d-4239-b1b4-9d4d7b784d2d",
   "metadata": {},
   "source": [
    "## Creat these blobs\n",
    " - Output blob\n",
    " \n"
   ]
  },
  {
   "cell_type": "code",
   "execution_count": null,
   "id": "1b3eccd0-7abb-40a4-b41e-2254b996f9c9",
   "metadata": {},
   "outputs": [],
   "source": [
    "\n",
    "# unencrypted_data = {\n",
    "#   \"customers\": [420, 380, 390],\n",
    "#   \"duration\": [50, 40, 45]\n",
    "# }\n",
    "\n",
    "# unencrpted_table_path = 'gs://rdmf_mock_data/dolphin/unencrypted_table.csv'"
   ]
  },
  {
   "cell_type": "code",
   "execution_count": null,
   "id": "3e0cd088-9806-4ce4-8f78-32d9704bb59f",
   "metadata": {},
   "outputs": [],
   "source": [
    "# # Encrypted Data\n",
    "# encrypted_data = {\n",
    "#   \"customers\": [420, 380, 390],\n",
    "#   \"duration\": [50, 40, 45]\n",
    "# }\n",
    "# encrpted_table_path = 'gs://rdmf_mock_data/dolphin/encrypted_table.csv'"
   ]
  },
  {
   "cell_type": "code",
   "execution_count": null,
   "id": "c06a1a7e-1e48-4e5c-a157-f598ba0fe426",
   "metadata": {},
   "outputs": [],
   "source": []
  },
  {
   "cell_type": "code",
   "execution_count": null,
   "id": "385d4b7f-3426-4208-ab9f-ee8018b4f287",
   "metadata": {},
   "outputs": [],
   "source": [
    "\n",
    "def encryption_function(taime_stamp, something):\n",
    "    pass\n",
    "\n",
    "def decrypton_function(taime_stamp, something):\n",
    "    pass\n"
   ]
  },
  {
   "cell_type": "code",
   "execution_count": null,
   "id": "1ee824e4-4e84-4393-8fa8-4d5eb97fd2ac",
   "metadata": {},
   "outputs": [],
   "source": [
    "def create_project(Customer):\n",
    "    pass"
   ]
  },
  {
   "cell_type": "code",
   "execution_count": 1,
   "id": "dcf3f773-1926-42e3-9819-57b8e9d03028",
   "metadata": {
    "tags": []
   },
   "outputs": [
    {
     "ename": "SyntaxError",
     "evalue": "invalid syntax (1953329510.py, line 1)",
     "output_type": "error",
     "traceback": [
      "\u001b[0;36m  Cell \u001b[0;32mIn[1], line 1\u001b[0;36m\u001b[0m\n\u001b[0;31m    customer name\u001b[0m\n\u001b[0m             ^\u001b[0m\n\u001b[0;31mSyntaxError\u001b[0m\u001b[0;31m:\u001b[0m invalid syntax\n"
     ]
    }
   ],
   "source": [
    "'customer name', 'tome stamp', \n"
   ]
  },
  {
   "cell_type": "code",
   "execution_count": null,
   "id": "29b16901-7bf9-43b7-9f20-da284e3541bf",
   "metadata": {},
   "outputs": [],
   "source": []
  },
  {
   "cell_type": "code",
   "execution_count": null,
   "id": "622bba54-9429-4879-838f-230b25e19097",
   "metadata": {},
   "outputs": [],
   "source": []
  }
 ],
 "metadata": {
  "kernelspec": {
   "display_name": "PySpark (Local)",
   "language": "python",
   "name": "pyspark"
  },
  "language_info": {
   "codemirror_mode": {
    "name": "ipython",
    "version": 3
   },
   "file_extension": ".py",
   "mimetype": "text/x-python",
   "name": "python",
   "nbconvert_exporter": "python",
   "pygments_lexer": "ipython3",
   "version": "3.10.13"
  }
 },
 "nbformat": 4,
 "nbformat_minor": 5
}
