{
 "cells": [
  {
   "cell_type": "code",
   "execution_count": 1,
   "id": "6445460e-9ad8-45de-8b06-f05648dc9285",
   "metadata": {
    "tags": []
   },
   "outputs": [],
   "source": [
    "import pandas as pd\n",
    "from google.cloud import bigquery\n",
    "from google.cloud import storage\n",
    "import io\n",
    "import hashlib\n",
    "import time"
   ]
  },
  {
   "cell_type": "code",
   "execution_count": 2,
   "id": "66692a8f-0528-4022-a7ae-1dd606ec16d1",
   "metadata": {
    "tags": []
   },
   "outputs": [],
   "source": [
    "from src.customer_request import CustomerRequest\n",
    "from src.hasher import Hasher\n",
    "from src.customer import Customer"
   ]
  },
  {
   "cell_type": "code",
   "execution_count": 3,
   "id": "63ca2251-72fb-4584-8908-85c044d8c2ce",
   "metadata": {
    "tags": []
   },
   "outputs": [
    {
     "data": {
      "text/plain": [
       "{'org_name': 'MOD', 'password': None}"
      ]
     },
     "execution_count": 3,
     "metadata": {},
     "output_type": "execute_result"
    }
   ],
   "source": [
    "# create the customer org\n",
    "customer = Customer(\"MOD\")\n",
    "vars(customer)"
   ]
  },
  {
   "cell_type": "code",
   "execution_count": 4,
   "id": "d9589d77-7daa-48c8-a336-2194918da3af",
   "metadata": {
    "tags": []
   },
   "outputs": [],
   "source": [
    "# the client where we store the data (can be BQ)\n",
    "client = storage.Client()\n",
    "bucket_name = \"rdmf_mock_data\""
   ]
  },
  {
   "cell_type": "code",
   "execution_count": 5,
   "id": "4432404b-5a01-4669-a258-0719e6daee93",
   "metadata": {
    "tags": []
   },
   "outputs": [
    {
     "data": {
      "text/plain": [
       "{'org_name': 'MOD',\n",
       " 'dataset1': 'AI',\n",
       " 'dataset1_cols': ['AI_ID', 'UPRN'],\n",
       " 'dataset2': 'BI',\n",
       " 'dataset2_cols': ['BI_ID', 'UPRN', 'SIC_code'],\n",
       " 'merge_col': 'UPRN',\n",
       " 'req_id': 0,\n",
       " 'epoch': 1709809219.9857605,\n",
       " 'password_prefix': '7779680',\n",
       " 'password_suffix': '844'}"
      ]
     },
     "execution_count": 5,
     "metadata": {},
     "output_type": "execute_result"
    }
   ],
   "source": [
    "# customer requests some data, they want AI and BI joined on UPRN:\n",
    "cus_req = CustomerRequest(\n",
    "    customer.org_name, \n",
    "    \"AI\", \n",
    "    [\"AI_ID\", \"UPRN\"], \n",
    "    \"BI\", \n",
    "    [\"BI_ID\", \"UPRN\", \"SIC_code\"],\n",
    "    \"UPRN\"\n",
    ")\n",
    "vars(cus_req)"
   ]
  },
  {
   "cell_type": "code",
   "execution_count": 6,
   "id": "c5ab953a-8229-4abc-8679-9e6ad7d87ecd",
   "metadata": {
    "tags": []
   },
   "outputs": [],
   "source": [
    "# we set the data they request:\n",
    "cus_req.set_data(client, bucket_name)"
   ]
  },
  {
   "cell_type": "code",
   "execution_count": 7,
   "id": "e373d1af-db15-46e5-82b2-37428d88a810",
   "metadata": {
    "tags": []
   },
   "outputs": [
    {
     "name": "stdout",
     "output_type": "stream",
     "text": [
      "customer password: 7779680112464\n",
      "note the password prefix (which we use for an identifier): 7779680\n",
      "but not the password suffix (which we store for security): 844\n"
     ]
    }
   ],
   "source": [
    "# we return their password to them for storage:\n",
    "customer_password = cus_req.create_user_password()\n",
    "print(f\"customer password: {customer_password}\")\n",
    "print(f\"note the password prefix (which we use for an identifier): {cus_req.password_prefix}\")\n",
    "print(f\"but not the password suffix (which we store for security): {cus_req.password_suffix}\")\n",
    "customer.set_password(customer_password)"
   ]
  },
  {
   "cell_type": "code",
   "execution_count": 8,
   "id": "85717740-2160-4973-93e9-737610f470bc",
   "metadata": {
    "tags": []
   },
   "outputs": [],
   "source": [
    "# we encrypt the data with the combination of our keys\n",
    "encrypted_data = cus_req.get_data(Hasher, customer.get_password(), [\"AI_ID\", \"BI_ID\"])\n",
    "customer.set_data(encrypted_data)"
   ]
  },
  {
   "cell_type": "code",
   "execution_count": 9,
   "id": "da92589c-8290-4d81-9dfe-44f32c048fb0",
   "metadata": {},
   "outputs": [
    {
     "data": {
      "text/plain": [
       "{'org_name': 'MOD',\n",
       " 'password': '7779680112464',\n",
       " 'data':                                                  AI_ID          UPRN  \\\n",
       " 0    0008732f01f2d4255031586ea2a4c3407f9631ee58cb54...  950930887871   \n",
       " 1    001fa7a1088d4df518c8563db2a9a13427db896a4dbb4e...  950305795301   \n",
       " 2    0075383b12edaf268c18047c48f197b232f2773eabd2f7...  950301370654   \n",
       " 3    009d3d323a407a93843c66451fa9f5d521be631c738ab5...  950298826255   \n",
       " 4    00d0d1e90cb23c6407db04df032fe3c5062e61d68274b2...  950572492129   \n",
       " ..                                                 ...           ...   \n",
       " 995  fedc3d3c4677530497cc41f69434d5d0432cd1cf42dd50...  950051056730   \n",
       " 996  ff23c964bea01347d014db45b2f9bd2b838fcd5411683e...  950483936664   \n",
       " 997  ff3871bf4daa2c46c0d7f5e7a7b3ebab2b72fb9fa91a62...  950489234984   \n",
       " 998  ff6cb7e46ad5678dc4f2d15ed0047da76d1a9c40bbc717...  950507373301   \n",
       " 999  ffc062dcd7b5117c9db0f3622cf3067f006cc55863bf89...  950368771438   \n",
       " \n",
       "                                                  BI_ID  SIC_code  \n",
       " 0    ccaf3a6345192d037b444a6f90893503769fb4ab4b60ac...     83343  \n",
       " 1    850a7a5e5b42353bcc35d99d9209ae584075792b958262...     15845  \n",
       " 2    204953fd0e1e80ef4c14a952dec41ac4d2bee57291182d...     64152  \n",
       " 3    9a83c002054504b760d56bc5ebce701d7b052fc7b406eb...       678  \n",
       " 4    c0adc1b99c52e0753afcaea09c95fb282609338d7202a0...     26475  \n",
       " ..                                                 ...       ...  \n",
       " 995  4763e8a96385212018be3ea016dbb743aeeadff61dfcb0...     14805  \n",
       " 996  432aad23c3e1b04cd44e3d25b28af122aec4310140772a...     90194  \n",
       " 997  e0787aa2485c3d6f60510632e21825387f1a2daa606220...     75608  \n",
       " 998  f0eaaa01c831b350750e21b55ea55019764b72fa75fa73...     14368  \n",
       " 999  053c2254d58b67f40feb826309e434db0972c96aa30ed6...     17614  \n",
       " \n",
       " [1000 rows x 4 columns]}"
      ]
     },
     "execution_count": 9,
     "metadata": {},
     "output_type": "execute_result"
    }
   ],
   "source": [
    "# the customer now has data\n",
    "vars(customer)"
   ]
  },
  {
   "cell_type": "code",
   "execution_count": 12,
   "id": "efa611c4-6326-4928-a7a2-1d12d7026970",
   "metadata": {
    "tags": []
   },
   "outputs": [
    {
     "data": {
      "text/html": [
       "<div>\n",
       "<style scoped>\n",
       "    .dataframe tbody tr th:only-of-type {\n",
       "        vertical-align: middle;\n",
       "    }\n",
       "\n",
       "    .dataframe tbody tr th {\n",
       "        vertical-align: top;\n",
       "    }\n",
       "\n",
       "    .dataframe thead th {\n",
       "        text-align: right;\n",
       "    }\n",
       "</style>\n",
       "<table border=\"1\" class=\"dataframe\">\n",
       "  <thead>\n",
       "    <tr style=\"text-align: right;\">\n",
       "      <th></th>\n",
       "      <th>AI_ID</th>\n",
       "      <th>UPRN</th>\n",
       "      <th>BI_ID</th>\n",
       "      <th>SIC_code</th>\n",
       "    </tr>\n",
       "  </thead>\n",
       "  <tbody>\n",
       "    <tr>\n",
       "      <th>0</th>\n",
       "      <td>0008732f01f2d4255031586ea2a4c3407f9631ee58cb54...</td>\n",
       "      <td>950930887871</td>\n",
       "      <td>ccaf3a6345192d037b444a6f90893503769fb4ab4b60ac...</td>\n",
       "      <td>83343</td>\n",
       "    </tr>\n",
       "    <tr>\n",
       "      <th>1</th>\n",
       "      <td>001fa7a1088d4df518c8563db2a9a13427db896a4dbb4e...</td>\n",
       "      <td>950305795301</td>\n",
       "      <td>850a7a5e5b42353bcc35d99d9209ae584075792b958262...</td>\n",
       "      <td>15845</td>\n",
       "    </tr>\n",
       "    <tr>\n",
       "      <th>2</th>\n",
       "      <td>0075383b12edaf268c18047c48f197b232f2773eabd2f7...</td>\n",
       "      <td>950301370654</td>\n",
       "      <td>204953fd0e1e80ef4c14a952dec41ac4d2bee57291182d...</td>\n",
       "      <td>64152</td>\n",
       "    </tr>\n",
       "    <tr>\n",
       "      <th>3</th>\n",
       "      <td>009d3d323a407a93843c66451fa9f5d521be631c738ab5...</td>\n",
       "      <td>950298826255</td>\n",
       "      <td>9a83c002054504b760d56bc5ebce701d7b052fc7b406eb...</td>\n",
       "      <td>678</td>\n",
       "    </tr>\n",
       "    <tr>\n",
       "      <th>4</th>\n",
       "      <td>00d0d1e90cb23c6407db04df032fe3c5062e61d68274b2...</td>\n",
       "      <td>950572492129</td>\n",
       "      <td>c0adc1b99c52e0753afcaea09c95fb282609338d7202a0...</td>\n",
       "      <td>26475</td>\n",
       "    </tr>\n",
       "    <tr>\n",
       "      <th>...</th>\n",
       "      <td>...</td>\n",
       "      <td>...</td>\n",
       "      <td>...</td>\n",
       "      <td>...</td>\n",
       "    </tr>\n",
       "    <tr>\n",
       "      <th>995</th>\n",
       "      <td>fedc3d3c4677530497cc41f69434d5d0432cd1cf42dd50...</td>\n",
       "      <td>950051056730</td>\n",
       "      <td>4763e8a96385212018be3ea016dbb743aeeadff61dfcb0...</td>\n",
       "      <td>14805</td>\n",
       "    </tr>\n",
       "    <tr>\n",
       "      <th>996</th>\n",
       "      <td>ff23c964bea01347d014db45b2f9bd2b838fcd5411683e...</td>\n",
       "      <td>950483936664</td>\n",
       "      <td>432aad23c3e1b04cd44e3d25b28af122aec4310140772a...</td>\n",
       "      <td>90194</td>\n",
       "    </tr>\n",
       "    <tr>\n",
       "      <th>997</th>\n",
       "      <td>ff3871bf4daa2c46c0d7f5e7a7b3ebab2b72fb9fa91a62...</td>\n",
       "      <td>950489234984</td>\n",
       "      <td>e0787aa2485c3d6f60510632e21825387f1a2daa606220...</td>\n",
       "      <td>75608</td>\n",
       "    </tr>\n",
       "    <tr>\n",
       "      <th>998</th>\n",
       "      <td>ff6cb7e46ad5678dc4f2d15ed0047da76d1a9c40bbc717...</td>\n",
       "      <td>950507373301</td>\n",
       "      <td>f0eaaa01c831b350750e21b55ea55019764b72fa75fa73...</td>\n",
       "      <td>14368</td>\n",
       "    </tr>\n",
       "    <tr>\n",
       "      <th>999</th>\n",
       "      <td>ffc062dcd7b5117c9db0f3622cf3067f006cc55863bf89...</td>\n",
       "      <td>950368771438</td>\n",
       "      <td>053c2254d58b67f40feb826309e434db0972c96aa30ed6...</td>\n",
       "      <td>17614</td>\n",
       "    </tr>\n",
       "  </tbody>\n",
       "</table>\n",
       "<p>1000 rows × 4 columns</p>\n",
       "</div>"
      ],
      "text/plain": [
       "                                                 AI_ID          UPRN  \\\n",
       "0    0008732f01f2d4255031586ea2a4c3407f9631ee58cb54...  950930887871   \n",
       "1    001fa7a1088d4df518c8563db2a9a13427db896a4dbb4e...  950305795301   \n",
       "2    0075383b12edaf268c18047c48f197b232f2773eabd2f7...  950301370654   \n",
       "3    009d3d323a407a93843c66451fa9f5d521be631c738ab5...  950298826255   \n",
       "4    00d0d1e90cb23c6407db04df032fe3c5062e61d68274b2...  950572492129   \n",
       "..                                                 ...           ...   \n",
       "995  fedc3d3c4677530497cc41f69434d5d0432cd1cf42dd50...  950051056730   \n",
       "996  ff23c964bea01347d014db45b2f9bd2b838fcd5411683e...  950483936664   \n",
       "997  ff3871bf4daa2c46c0d7f5e7a7b3ebab2b72fb9fa91a62...  950489234984   \n",
       "998  ff6cb7e46ad5678dc4f2d15ed0047da76d1a9c40bbc717...  950507373301   \n",
       "999  ffc062dcd7b5117c9db0f3622cf3067f006cc55863bf89...  950368771438   \n",
       "\n",
       "                                                 BI_ID  SIC_code  \n",
       "0    ccaf3a6345192d037b444a6f90893503769fb4ab4b60ac...     83343  \n",
       "1    850a7a5e5b42353bcc35d99d9209ae584075792b958262...     15845  \n",
       "2    204953fd0e1e80ef4c14a952dec41ac4d2bee57291182d...     64152  \n",
       "3    9a83c002054504b760d56bc5ebce701d7b052fc7b406eb...       678  \n",
       "4    c0adc1b99c52e0753afcaea09c95fb282609338d7202a0...     26475  \n",
       "..                                                 ...       ...  \n",
       "995  4763e8a96385212018be3ea016dbb743aeeadff61dfcb0...     14805  \n",
       "996  432aad23c3e1b04cd44e3d25b28af122aec4310140772a...     90194  \n",
       "997  e0787aa2485c3d6f60510632e21825387f1a2daa606220...     75608  \n",
       "998  f0eaaa01c831b350750e21b55ea55019764b72fa75fa73...     14368  \n",
       "999  053c2254d58b67f40feb826309e434db0972c96aa30ed6...     17614  \n",
       "\n",
       "[1000 rows x 4 columns]"
      ]
     },
     "execution_count": 12,
     "metadata": {},
     "output_type": "execute_result"
    }
   ],
   "source": [
    "customer.data"
   ]
  },
  {
   "cell_type": "code",
   "execution_count": 11,
   "id": "8e59a407-7f64-46e8-9691-110f8134a9dc",
   "metadata": {
    "tags": []
   },
   "outputs": [
    {
     "data": {
      "text/html": [
       "<div>\n",
       "<style scoped>\n",
       "    .dataframe tbody tr th:only-of-type {\n",
       "        vertical-align: middle;\n",
       "    }\n",
       "\n",
       "    .dataframe tbody tr th {\n",
       "        vertical-align: top;\n",
       "    }\n",
       "\n",
       "    .dataframe thead th {\n",
       "        text-align: right;\n",
       "    }\n",
       "</style>\n",
       "<table border=\"1\" class=\"dataframe\">\n",
       "  <thead>\n",
       "    <tr style=\"text-align: right;\">\n",
       "      <th></th>\n",
       "      <th>AI_ID</th>\n",
       "      <th>UPRN</th>\n",
       "    </tr>\n",
       "  </thead>\n",
       "  <tbody>\n",
       "    <tr>\n",
       "      <th>0</th>\n",
       "      <td>109883574750268</td>\n",
       "      <td>950698168954</td>\n",
       "    </tr>\n",
       "    <tr>\n",
       "      <th>1</th>\n",
       "      <td>109256760223223</td>\n",
       "      <td>950320937277</td>\n",
       "    </tr>\n",
       "    <tr>\n",
       "      <th>2</th>\n",
       "      <td>109893804250876</td>\n",
       "      <td>950186421264</td>\n",
       "    </tr>\n",
       "    <tr>\n",
       "      <th>3</th>\n",
       "      <td>109805082504690</td>\n",
       "      <td>950680091532</td>\n",
       "    </tr>\n",
       "    <tr>\n",
       "      <th>4</th>\n",
       "      <td>109403802151520</td>\n",
       "      <td>950396831655</td>\n",
       "    </tr>\n",
       "    <tr>\n",
       "      <th>...</th>\n",
       "      <td>...</td>\n",
       "      <td>...</td>\n",
       "    </tr>\n",
       "    <tr>\n",
       "      <th>100995</th>\n",
       "      <td>109984358090240</td>\n",
       "      <td>950178626481</td>\n",
       "    </tr>\n",
       "    <tr>\n",
       "      <th>100996</th>\n",
       "      <td>109065983079912</td>\n",
       "      <td>950672927828</td>\n",
       "    </tr>\n",
       "    <tr>\n",
       "      <th>100997</th>\n",
       "      <td>109186696116433</td>\n",
       "      <td>950696064737</td>\n",
       "    </tr>\n",
       "    <tr>\n",
       "      <th>100998</th>\n",
       "      <td>109788394420272</td>\n",
       "      <td>950334094218</td>\n",
       "    </tr>\n",
       "    <tr>\n",
       "      <th>100999</th>\n",
       "      <td>109260804272677</td>\n",
       "      <td>950187498346</td>\n",
       "    </tr>\n",
       "  </tbody>\n",
       "</table>\n",
       "<p>101000 rows × 2 columns</p>\n",
       "</div>"
      ],
      "text/plain": [
       "                  AI_ID          UPRN\n",
       "0       109883574750268  950698168954\n",
       "1       109256760223223  950320937277\n",
       "2       109893804250876  950186421264\n",
       "3       109805082504690  950680091532\n",
       "4       109403802151520  950396831655\n",
       "...                 ...           ...\n",
       "100995  109984358090240  950178626481\n",
       "100996  109065983079912  950672927828\n",
       "100997  109186696116433  950696064737\n",
       "100998  109788394420272  950334094218\n",
       "100999  109260804272677  950187498346\n",
       "\n",
       "[101000 rows x 2 columns]"
      ]
     },
     "execution_count": 11,
     "metadata": {},
     "output_type": "execute_result"
    }
   ],
   "source": [
    "cus_req.data[\"AI\"]"
   ]
  },
  {
   "cell_type": "code",
   "execution_count": null,
   "id": "dd0275fc-0c06-4dac-b47e-ad103548aeaa",
   "metadata": {},
   "outputs": [],
   "source": []
  }
 ],
 "metadata": {
  "environment": {
   "kernel": "python3",
   "name": "tf2-cpu.2-11.m117",
   "type": "gcloud",
   "uri": "us-docker.pkg.dev/deeplearning-platform-release/gcr.io/tf2-cpu.2-11:m117"
  },
  "kernelspec": {
   "display_name": "Python 3 (Local)",
   "language": "python",
   "name": "python3"
  },
  "language_info": {
   "codemirror_mode": {
    "name": "ipython",
    "version": 3
   },
   "file_extension": ".py",
   "mimetype": "text/x-python",
   "name": "python",
   "nbconvert_exporter": "python",
   "pygments_lexer": "ipython3",
   "version": "3.10.13"
  }
 },
 "nbformat": 4,
 "nbformat_minor": 5
}
