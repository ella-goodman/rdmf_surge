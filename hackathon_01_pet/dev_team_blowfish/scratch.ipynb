{
 "cells": [
  {
   "cell_type": "code",
   "execution_count": 1,
   "id": "6445460e-9ad8-45de-8b06-f05648dc9285",
   "metadata": {
    "tags": []
   },
   "outputs": [],
   "source": [
    "import pandas as pd\n",
    "from google.cloud import bigquery\n",
    "from google.cloud import storage\n",
    "import io\n",
    "import hashlib\n",
    "import time"
   ]
  },
  {
   "cell_type": "code",
   "execution_count": 2,
   "id": "66692a8f-0528-4022-a7ae-1dd606ec16d1",
   "metadata": {
    "tags": []
   },
   "outputs": [],
   "source": [
    "from src.customer_request import CustomerRequest\n",
    "from src.hasher import Hasher\n",
    "from src.customer import Customer"
   ]
  },
  {
   "cell_type": "code",
   "execution_count": 3,
   "id": "63ca2251-72fb-4584-8908-85c044d8c2ce",
   "metadata": {
    "tags": []
   },
   "outputs": [
    {
     "data": {
      "text/plain": [
       "{'org_name': 'MOD', 'password': None}"
      ]
     },
     "execution_count": 3,
     "metadata": {},
     "output_type": "execute_result"
    }
   ],
   "source": [
    "# create the customer org\n",
    "customer = Customer(\"MOD\")\n",
    "vars(customer)"
   ]
  },
  {
   "cell_type": "code",
   "execution_count": 4,
   "id": "d9589d77-7daa-48c8-a336-2194918da3af",
   "metadata": {
    "tags": []
   },
   "outputs": [],
   "source": [
    "# the client where we store the data (can be BQ)\n",
    "client = storage.Client()\n",
    "bucket_name = \"rdmf_mock_data\""
   ]
  },
  {
   "cell_type": "code",
   "execution_count": 5,
   "id": "4432404b-5a01-4669-a258-0719e6daee93",
   "metadata": {
    "tags": []
   },
   "outputs": [
    {
     "data": {
      "text/plain": [
       "{'org_name': 'MOD',\n",
       " 'dataset1': 'AI',\n",
       " 'dataset2': 'BI',\n",
       " 'merge_col': 'UPRN',\n",
       " 'req_id': 0,\n",
       " 'epoch': 1709808199.9601805,\n",
       " 'password_prefix': '7779680',\n",
       " 'password_suffix': '684'}"
      ]
     },
     "execution_count": 5,
     "metadata": {},
     "output_type": "execute_result"
    }
   ],
   "source": [
    "# customer requests some data, they want AI and BI joined on UPRN:\n",
    "cus_req = CustomerRequest(customer.org_name, \"AI\", \"BI\", \"UPRN\")\n",
    "vars(cus_req)"
   ]
  },
  {
   "cell_type": "code",
   "execution_count": 6,
   "id": "c5ab953a-8229-4abc-8679-9e6ad7d87ecd",
   "metadata": {
    "tags": []
   },
   "outputs": [],
   "source": [
    "# we set the data they request:\n",
    "cus_req.set_data(client, bucket_name)"
   ]
  },
  {
   "cell_type": "code",
   "execution_count": 10,
   "id": "e373d1af-db15-46e5-82b2-37428d88a810",
   "metadata": {
    "tags": []
   },
   "outputs": [
    {
     "name": "stdout",
     "output_type": "stream",
     "text": [
      "customer password: 7779680683666\n",
      "note the password prefix (which we use for an identifier): 7779680\n",
      "but not the password suffix (which we store for security): 684\n"
     ]
    }
   ],
   "source": [
    "# we return their password to them for storage:\n",
    "customer_password = cus_req.create_user_password()\n",
    "print(f\"customer password: {customer_password}\")\n",
    "print(f\"note the password prefix (which we use for an identifier): {cus_req.password_prefix}\")\n",
    "print(f\"but not the password suffix (which we store for security): {cus_req.password_suffix}\")\n",
    "customer.set_password(customer_password)"
   ]
  },
  {
   "cell_type": "code",
   "execution_count": 11,
   "id": "85717740-2160-4973-93e9-737610f470bc",
   "metadata": {
    "tags": []
   },
   "outputs": [],
   "source": [
    "# we encrypt the data with the combination of our keys\n",
    "encrypted_data = cus_req.get_data(Hasher, customer.get_password(), [\"AI_ID\", \"BI_ID\"])\n",
    "customer.set_data(encrypted_data)"
   ]
  },
  {
   "cell_type": "code",
   "execution_count": 12,
   "id": "da92589c-8290-4d81-9dfe-44f32c048fb0",
   "metadata": {},
   "outputs": [
    {
     "data": {
      "text/plain": [
       "{'org_name': 'MOD',\n",
       " 'password': '7779680683666',\n",
       " 'data':                                                  AI_ID          UPRN  \\\n",
       " 0    588a3bbd5b535cc8f62e165d800ae4348b5b5c48733932...  950698168954   \n",
       " 1    c74838e9af47ac9a82ff45ac6e429997d3fe8754999ba5...  950320937277   \n",
       " 2    d1e13346b214ab1f4aed7ae1bc8037c56927ac4d824266...  950186421264   \n",
       " 3    b4ea74251e57aa03187eb7ccbfb6595c4efabb3adb8c3f...  950680091532   \n",
       " 4    f1aa8b674478774e88dfdc6a1e60e9966635ff81497164...  950396831655   \n",
       " ..                                                 ...           ...   \n",
       " 995  ac1e2ca2fa315ce795cf456736483589b29687129e0266...  950887629315   \n",
       " 996  c368dd369d8c3ccf333c32b9b618a0dfc0bb683f64bdb1...  950515544317   \n",
       " 997  b94e4bee4041e42a4ad5651c81c31798b27b3ebfcb08af...  950244942559   \n",
       " 998  c54dc8718b8dada0ea8cd33d8857afa766124c2008a8a0...  950966683600   \n",
       " 999  1a1663057aa470be4e5c81522aecf60631923f67e8bb1e...  950187498346   \n",
       " \n",
       "                                                  BI_ID  \\\n",
       " 0    c78556e86e6ae0f649e5dcab54d064317457e47dff2979...   \n",
       " 1    b788d57be32afe5227977fe783b70c2d9500f1257fa47e...   \n",
       " 2    f074fcbf1fc44c4ac9dda1e999cdaec03f162c6bcc7872...   \n",
       " 3    b5ede26ddb32912bfb6d7f8196b65bba29b52974adc006...   \n",
       " 4    ad79a1f19d8935c7526d7323aa937f04db96daa85a9a4f...   \n",
       " ..                                                 ...   \n",
       " 995  baa7aa498659a7ee0ec72203c17bb4d191c62ae8195136...   \n",
       " 996  344a5ec78952b680aae4a4aa2b6b8bfd1351ca7f264ed1...   \n",
       " 997  db07ce5569a4c0510f3c036148f806439f322cf96ff961...   \n",
       " 998  095c3af763883255e006dbf34a4b0d4b7375f57f5b694b...   \n",
       " 999  925c1d8458cdffe85d44eda37ca79140e6fb11468661aa...   \n",
       " \n",
       "                  Business_name  PAYE_scheme_ref  SIC_code  \n",
       " 0                 Nitzsche PLC           100001     55303  \n",
       " 1            Schamberger-Smith           100002     52512  \n",
       " 2         Heidenreich-Schimmel           100003     68588  \n",
       " 3      Turner, Davis and Weber           100004     85252  \n",
       " 4    Schmidt, Pouros and Bauch           100005     94309  \n",
       " ..                         ...              ...       ...  \n",
       " 995   Lesch, Legros and Herzog           100996     55448  \n",
       " 996                   Roob Ltd           100997     20309  \n",
       " 997                 Daniel Inc           100998     54995  \n",
       " 998                  Tromp LLC           100999     62591  \n",
       " 999      Infinidum Enterprises           100000     25143  \n",
       " \n",
       " [1000 rows x 6 columns]}"
      ]
     },
     "execution_count": 12,
     "metadata": {},
     "output_type": "execute_result"
    }
   ],
   "source": [
    "# the customer now has data\n",
    "vars(customer)"
   ]
  },
  {
   "cell_type": "code",
   "execution_count": null,
   "id": "efa611c4-6326-4928-a7a2-1d12d7026970",
   "metadata": {},
   "outputs": [],
   "source": []
  }
 ],
 "metadata": {
  "environment": {
   "kernel": "python3",
   "name": "tf2-cpu.2-11.m117",
   "type": "gcloud",
   "uri": "us-docker.pkg.dev/deeplearning-platform-release/gcr.io/tf2-cpu.2-11:m117"
  },
  "kernelspec": {
   "display_name": "Python 3 (Local)",
   "language": "python",
   "name": "python3"
  },
  "language_info": {
   "codemirror_mode": {
    "name": "ipython",
    "version": 3
   },
   "file_extension": ".py",
   "mimetype": "text/x-python",
   "name": "python",
   "nbconvert_exporter": "python",
   "pygments_lexer": "ipython3",
   "version": "3.10.13"
  }
 },
 "nbformat": 4,
 "nbformat_minor": 5
}
