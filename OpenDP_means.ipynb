{
 "cells": [
  {
   "cell_type": "markdown",
   "metadata": {},
   "source": [
    "# Understanding Differentially Private mean\n",
    "\n",
    "This notebook shows how to calculate a DP mean two ways.\n",
    "\n",
    "I started writing it a few months ago. It's messy and not well-documented, but I'm including it in case useful. "
   ]
  },
  {
   "cell_type": "code",
   "execution_count": 169,
   "metadata": {},
   "outputs": [],
   "source": [
    "#import diffprivlib\n",
    "import numpy as np\n",
    "import pandas as pd\n",
    "from random import randrange, uniform\n",
    "\n",
    "from opendp.mod import enable_features\n",
    "enable_features(\"contrib\")\n",
    "\n",
    "### Compare OpenDP mean with unknown N to mean using Exponential mechanism\n",
    "# https://docs.opendp.org/en/stable/user/transformations/aggregation-mean.html"
   ]
  },
  {
   "cell_type": "code",
   "execution_count": 171,
   "metadata": {},
   "outputs": [
    {
     "name": "stdout",
     "output_type": "stream",
     "text": [
      "15.676380217409728 119\n"
     ]
    }
   ],
   "source": [
    "N = randrange(100,200)\n",
    "\n",
    "\n",
    "bounds = (0.,30.)\n",
    "\n",
    "x = [uniform(*bounds) for i in range(N)]\n",
    "\n",
    "truemean = np.mean(x)\n",
    "#print([round(i,1) for i in x])\n",
    "print(np.mean(x),N)"
   ]
  },
  {
   "cell_type": "code",
   "execution_count": 175,
   "metadata": {},
   "outputs": [],
   "source": [
    "## 'Naive' method using OpenDP\n",
    "from opendp.transformations import make_count, make_clamp, make_bounded_resize\n",
    "from opendp.measurements import make_base_discrete_laplace, make_base_laplace\n",
    "from opendp.transformations import make_bounded_sum\n",
    "from opendp.combinators import make_basic_composition\n",
    "\n",
    "epsilon = 1.\n"
   ]
  },
  {
   "cell_type": "code",
   "execution_count": 173,
   "metadata": {},
   "outputs": [],
   "source": [
    "def dpmean_naive(x: list[float], epsilon: float, bounds: list[float]) -> float:\n",
    "    count_meas = make_count(TIA=float) >> make_base_discrete_laplace(4./epsilon)\n",
    "    sum_meas = make_clamp(bounds) >> make_bounded_sum(bounds) >> make_base_laplace(4./3.*30./epsilon)\n",
    "\n",
    "    dp_fraction_meas = make_basic_composition([\n",
    "        sum_meas,\n",
    "        count_meas\n",
    "    ])\n",
    "\n",
    "    dp_sum, dp_count = dp_fraction_meas(x)\n",
    "\n",
    "    return dp_sum/dp_count, dp_fraction_meas"
   ]
  },
  {
   "cell_type": "code",
   "execution_count": 176,
   "metadata": {},
   "outputs": [
    {
     "name": "stdout",
     "output_type": "stream",
     "text": [
      "dp mean: 15.45; true mean: 15.68; difference: -0.22\n",
      "epsilon: 1.0000000069849195\n"
     ]
    }
   ],
   "source": [
    "\n",
    "#print(f\"dp count: {dp_count}; true count: {N}; difference: {dp_count - N}\")\n",
    "\n",
    "dpmean, dpmeas = dpmean_naive(x,epsilon,bounds)\n",
    "print(f\"dp mean: {dpmean:.2f}; true mean: {truemean:.2f}; difference: {dpmean - truemean:.2f}\")\n",
    "print(\"epsilon:\", dpmeas.map(1))\n",
    "#print(f\"epsilon (count): {count_meas.map(1)}; epsilon (sum): {sum_meas.map(1)}\")"
   ]
  },
  {
   "cell_type": "code",
   "execution_count": 164,
   "metadata": {},
   "outputs": [
    {
     "name": "stdout",
     "output_type": "stream",
     "text": [
      "dp count: 128; true count: 152; difference: -24\n",
      "dp mean: 14.25; true mean: 14.54; difference: -0.29\n",
      "epsilon: 0.20000000000006202\n",
      "epsilon (count): 0.05; epsilon (mean): 0.150000000000062\n",
      "\n",
      "Guess count method\n",
      "guess count: 100; true count: 152; difference: -52\n",
      "dp mean: 16.37; true mean: 14.54; difference: 12.6%\n",
      "epsilon: 0.20000000000006146\n",
      "epsilon (count): 0.0; epsilon (mean): 0.20000000000006146\n"
     ]
    }
   ],
   "source": [
    "## 'Resizing' method using OpenDP\n",
    "from opendp.transformations import make_sized_bounded_mean\n",
    "from opendp.measurements import make_base_discrete_laplace\n",
    "\n",
    "dp_count = int(count_meas(x)*0.9)\n",
    "\n",
    "mean_meas = (\n",
    "    make_clamp(bounds) >>\n",
    "    make_bounded_resize(dp_count, bounds, constant=15.) >>\n",
    "    make_sized_bounded_mean(dp_count, bounds) >>\n",
    "    make_base_laplace((30.*4./3.)/dp_count/epsilon)\n",
    ")\n",
    "\n",
    "dp_mean = mean_meas(x)\n",
    "\n",
    "print(f\"dp count: {dp_count}; true count: {N}; difference: {dp_count - N}\")\n",
    "print(f\"dp mean: {dp_mean:.2f}; true mean: {truemean:.2f}; difference: {dp_mean - truemean:.2f}\")\n",
    "print(f\"epsilon: {make_basic_composition([count_meas,mean_meas]).map(1)}\")\n",
    "print(f\"epsilon (count): {count_meas.map(1)}; epsilon (mean): {mean_meas.map(1)}\\n\")\n",
    "\n",
    "\n",
    "## What if you just guess the count?\n",
    "guess_count = 100\n",
    "\n",
    "mean_meas = (\n",
    "    make_clamp(bounds) >>\n",
    "    make_bounded_resize(guess_count, bounds, constant=15.) >>\n",
    "    make_sized_bounded_mean(guess_count, bounds) >>\n",
    "    make_base_laplace(30./guess_count/epsilon)\n",
    ")\n",
    "\n",
    "dp_mean2 = mean_meas(x)\n",
    "\n",
    "print(\"Guess count method\")\n",
    "print(f\"guess count: {guess_count}; true count: {N}; difference: {guess_count - N}\")\n",
    "print(f\"dp mean: {dp_mean2:.2f}; true mean: {truemean:.2f}; difference: {(dp_mean2 - truemean)/truemean:.1%}\")\n",
    "print(f\"epsilon: {mean_meas.map(1)}\")\n",
    "print(f\"epsilon (count): {0.}; epsilon (mean): {mean_meas.map(1)}\")\n",
    "\n",
    "\n"
   ]
  }
 ],
 "metadata": {
  "kernelspec": {
   "display_name": "Python 3.11.4 64-bit",
   "language": "python",
   "name": "python3"
  },
  "language_info": {
   "codemirror_mode": {
    "name": "ipython",
    "version": 3
   },
   "file_extension": ".py",
   "mimetype": "text/x-python",
   "name": "python",
   "nbconvert_exporter": "python",
   "pygments_lexer": "ipython3",
   "version": "3.11.4"
  },
  "orig_nbformat": 4,
  "vscode": {
   "interpreter": {
    "hash": "aee8b7b246df8f9039afb4144a1f6fd8d2ca17a180786b69acc140d282b71a49"
   }
  }
 },
 "nbformat": 4,
 "nbformat_minor": 2
}
