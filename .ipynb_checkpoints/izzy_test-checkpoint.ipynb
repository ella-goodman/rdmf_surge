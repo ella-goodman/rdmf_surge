{
 "cells": [
  {
   "cell_type": "markdown",
   "id": "9f3cd365-9bb2-4fe0-997a-ded1c85af30a",
   "metadata": {},
   "source": [
    "izzy test "
   ]
  }
 ],
 "metadata": {
  "kernelspec": {
   "display_name": "Python (Local)",
   "language": "python",
   "name": "base"
  },
  "language_info": {
   "codemirror_mode": {
    "name": "ipython",
    "version": 3
   },
   "file_extension": ".py",
   "mimetype": "text/x-python",
   "name": "python",
   "nbconvert_exporter": "python",
   "pygments_lexer": "ipython3",
   "version": "3.10.13"
  }
 },
 "nbformat": 4,
 "nbformat_minor": 5
}
