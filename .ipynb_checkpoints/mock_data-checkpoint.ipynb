{
 "cells": [
  {
   "cell_type": "markdown",
   "id": "7f91b6b6-3ad6-4563-8ccf-1cdd88549988",
   "metadata": {},
   "source": [
    "* Creating synthetic business data with ID\n",
    "* Creating a new bucket, storing the data within the bucket \n",
    "* Reading the data \n",
    "* Creating a big query table with the data"
   ]
  },
  {
   "cell_type": "code",
   "execution_count": 1,
   "id": "80a78765-a4a9-463c-a178-b9ff8fda08f2",
   "metadata": {
    "tags": []
   },
   "outputs": [
    {
     "data": {
      "text/html": [
       "<div>\n",
       "<style scoped>\n",
       "    .dataframe tbody tr th:only-of-type {\n",
       "        vertical-align: middle;\n",
       "    }\n",
       "\n",
       "    .dataframe tbody tr th {\n",
       "        vertical-align: top;\n",
       "    }\n",
       "\n",
       "    .dataframe thead th {\n",
       "        text-align: right;\n",
       "    }\n",
       "</style>\n",
       "<table border=\"1\" class=\"dataframe\">\n",
       "  <thead>\n",
       "    <tr style=\"text-align: right;\">\n",
       "      <th></th>\n",
       "      <th>business_id</th>\n",
       "      <th>creation_date</th>\n",
       "      <th>load_date</th>\n",
       "      <th>industry_code</th>\n",
       "      <th>business_name</th>\n",
       "      <th>trading_as_name</th>\n",
       "    </tr>\n",
       "  </thead>\n",
       "  <tbody>\n",
       "    <tr>\n",
       "      <th>0</th>\n",
       "      <td>1234567890123456</td>\n",
       "      <td>2023-01-01</td>\n",
       "      <td>2023-01-01</td>\n",
       "      <td>52311</td>\n",
       "      <td>Acme Corporation</td>\n",
       "      <td>Acme</td>\n",
       "    </tr>\n",
       "    <tr>\n",
       "      <th>1</th>\n",
       "      <td>2345678901234567</td>\n",
       "      <td>2023-01-02</td>\n",
       "      <td>2023-01-02</td>\n",
       "      <td>56111</td>\n",
       "      <td>Big Corp</td>\n",
       "      <td>Big</td>\n",
       "    </tr>\n",
       "    <tr>\n",
       "      <th>2</th>\n",
       "      <td>3456789012345678</td>\n",
       "      <td>2023-01-03</td>\n",
       "      <td>2023-01-03</td>\n",
       "      <td>54111</td>\n",
       "      <td>Mega Corp</td>\n",
       "      <td>Mega</td>\n",
       "    </tr>\n",
       "    <tr>\n",
       "      <th>3</th>\n",
       "      <td>4567890123456789</td>\n",
       "      <td>2023-01-04</td>\n",
       "      <td>2023-01-04</td>\n",
       "      <td>58121</td>\n",
       "      <td>Super Corp</td>\n",
       "      <td>Super</td>\n",
       "    </tr>\n",
       "    <tr>\n",
       "      <th>4</th>\n",
       "      <td>5678901234567890</td>\n",
       "      <td>2023-01-05</td>\n",
       "      <td>2023-01-05</td>\n",
       "      <td>55111</td>\n",
       "      <td>Ultra Corp</td>\n",
       "      <td>Ultra</td>\n",
       "    </tr>\n",
       "  </tbody>\n",
       "</table>\n",
       "</div>"
      ],
      "text/plain": [
       "        business_id creation_date   load_date industry_code     business_name  \\\n",
       "0  1234567890123456    2023-01-01  2023-01-01         52311  Acme Corporation   \n",
       "1  2345678901234567    2023-01-02  2023-01-02         56111          Big Corp   \n",
       "2  3456789012345678    2023-01-03  2023-01-03         54111         Mega Corp   \n",
       "3  4567890123456789    2023-01-04  2023-01-04         58121        Super Corp   \n",
       "4  5678901234567890    2023-01-05  2023-01-05         55111        Ultra Corp   \n",
       "\n",
       "  trading_as_name  \n",
       "0            Acme  \n",
       "1             Big  \n",
       "2            Mega  \n",
       "3           Super  \n",
       "4           Ultra  "
      ]
     },
     "execution_count": 1,
     "metadata": {},
     "output_type": "execute_result"
    }
   ],
   "source": [
    "import pandas as pd\n",
    "from google.cloud import bigquery\n",
    "from google.cloud import storage\n",
    "import io\n",
    "\n",
    "# Create a pandas dataframe\n",
    "df = pd.DataFrame({\n",
    "    \"business_id\": [\"1234567890123456\", \"2345678901234567\", \"3456789012345678\", \"4567890123456789\", \"5678901234567890\", \"6789012345678901\", \"7890123456789012\", \"8901234567890123\", \"9012345678901234\", \"0123456789012345\"],\n",
    "    \"creation_date\": [\"2023-01-01\", \"2023-01-02\", \"2023-01-03\", \"2023-01-04\", \"2023-01-05\", \"2023-01-06\", \"2023-01-07\", \"2023-01-08\", \"2023-01-09\", \"2023-01-10\"],\n",
    "    \"load_date\": [\"2023-01-01\", \"2023-01-02\", \"2023-01-03\", \"2023-01-04\", \"2023-01-05\", \"2023-01-06\", \"2023-01-07\", \"2023-01-08\", \"2023-01-09\", \"2023-01-10\"],\n",
    "    \"industry_code\": [\"52311\", \"56111\", \"54111\", \"58121\", \"55111\", \"57121\", \"59121\", \"51111\", \"53111\", \"50111\"],\n",
    "    \"business_name\": [\"Acme Corporation\", \"Big Corp\", \"Mega Corp\", \"Super Corp\", \"Ultra Corp\", \"Extreme Corp\", \"Epic Corp\", \"Legend Corp\", \"Myth Corp\", \"Nova Corp\"],\n",
    "    \"trading_as_name\": [\"Acme\", \"Big\", \"Mega\", \"Super\", \"Ultra\", \"Extreme\", \"Epic\", \"Legend\", \"Myth\", \"Nova\"]\n",
    "})\n",
    "\n",
    "df.head()"
   ]
  },
  {
   "cell_type": "code",
   "execution_count": 2,
   "id": "51aa2d89-7d51-46ed-b622-caa76be35ac1",
   "metadata": {
    "tags": []
   },
   "outputs": [
    {
     "name": "stdout",
     "output_type": "stream",
     "text": [
      "Bucket already exists: business_data_synthetic99\n"
     ]
    },
    {
     "ename": "NameError",
     "evalue": "name 'bucket' is not defined",
     "output_type": "error",
     "traceback": [
      "\u001b[0;31m---------------------------------------------------------------------------\u001b[0m",
      "\u001b[0;31mNameError\u001b[0m                                 Traceback (most recent call last)",
      "Cell \u001b[0;32mIn[2], line 24\u001b[0m\n\u001b[1;32m     21\u001b[0m csv_data \u001b[38;5;241m=\u001b[39m df\u001b[38;5;241m.\u001b[39mto_csv(index\u001b[38;5;241m=\u001b[39m\u001b[38;5;28;01mFalse\u001b[39;00m)\n\u001b[1;32m     23\u001b[0m \u001b[38;5;66;03m# Create a blob and upload the CSV data\u001b[39;00m\n\u001b[0;32m---> 24\u001b[0m blob \u001b[38;5;241m=\u001b[39m \u001b[43mbucket\u001b[49m\u001b[38;5;241m.\u001b[39mblob(blob_name)\n\u001b[1;32m     25\u001b[0m blob\u001b[38;5;241m.\u001b[39mupload_from_string(csv_data)\n\u001b[1;32m     26\u001b[0m \u001b[38;5;28mprint\u001b[39m(\u001b[38;5;124mf\u001b[39m\u001b[38;5;124m\"\u001b[39m\u001b[38;5;124mWrote data to blob: \u001b[39m\u001b[38;5;132;01m{\u001b[39;00mblob\u001b[38;5;241m.\u001b[39mname\u001b[38;5;132;01m}\u001b[39;00m\u001b[38;5;124m\"\u001b[39m)\n",
      "\u001b[0;31mNameError\u001b[0m: name 'bucket' is not defined"
     ]
    }
   ],
   "source": [
    "# Write the DataFrame to a GCS bucket\n",
    "client = storage.Client()\n",
    "\n",
    "# Set the bucket_name to the name of the bucket you want to create\n",
    "bucket_name = \"business_data_synthetic99\"\n",
    "#blob name \n",
    "blob_name = \"business_data.csv\"\n",
    "\n",
    "# Check if the bucket exists\n",
    "if client.get_bucket(bucket_name) is None:\n",
    "    # If the bucket does not exist, create it\n",
    "    bucket = client.create_bucket(bucket_name)\n",
    "    # Set the default storage class to \"coldline\"\n",
    "    bucket.storage_class = \"COLDLINE\"\n",
    "    print(f\"Created bucket: {bucket.name}\")\n",
    "else:\n",
    "    print(f\"Bucket already exists: {bucket_name}\")\n",
    "\n",
    "\n",
    "# Convert the DataFrame to a CSV string\n",
    "csv_data = df.to_csv(index=False)\n",
    "\n",
    "# Create a blob and upload the CSV data\n",
    "blob = bucket.blob(blob_name)\n",
    "blob.upload_from_string(csv_data)\n",
    "print(f\"Wrote data to blob: {blob.name}\")\n",
    "\n",
    "# Read the data from the blob as a DataFrame\n",
    "df = pd.read_csv(f\"gs://{bucket_name}/{blob_name}\")\n",
    "df.head()"
   ]
  },
  {
   "cell_type": "code",
   "execution_count": null,
   "id": "4552b9f1-e949-47fa-9a08-c2bc70982599",
   "metadata": {},
   "outputs": [],
   "source": []
  }
 ],
 "metadata": {
  "environment": {
   "kernel": "python3",
   "name": "tf2-cpu.2-11.m116",
   "type": "gcloud",
   "uri": "gcr.io/deeplearning-platform-release/tf2-cpu.2-11:m116"
  },
  "kernelspec": {
   "display_name": "Python (Local)",
   "language": "python",
   "name": "base"
  },
  "language_info": {
   "codemirror_mode": {
    "name": "ipython",
    "version": 3
   },
   "file_extension": ".py",
   "mimetype": "text/x-python",
   "name": "python",
   "nbconvert_exporter": "python",
   "pygments_lexer": "ipython3",
   "version": "3.10.13"
  }
 },
 "nbformat": 4,
 "nbformat_minor": 5
}
