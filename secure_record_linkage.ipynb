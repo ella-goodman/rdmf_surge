{
 "cells": [
  {
   "cell_type": "markdown",
   "metadata": {
    "colab_type": "text",
    "id": "view-in-github"
   },
   "source": [
    "<a href=\"https://colab.research.google.com/github/izzyizzy44/data_science/blob/main/secure_record_linkage.ipynb\" target=\"_parent\"><img src=\"https://colab.research.google.com/assets/colab-badge.svg\" alt=\"Open In Colab\"/></a>"
   ]
  },
  {
   "cell_type": "markdown",
   "metadata": {
    "id": "Q9y1ti5xBoHQ"
   },
   "source": [
    "# Privacy preserving record linkage"
   ]
  },
  {
   "cell_type": "markdown",
   "metadata": {
    "id": "t4EM_0MqBvKI"
   },
   "source": [
    "This notebook demonstrates two basic privacy-preserving record matching techniques: Bloom Filters and Cryptographic Hashing.\n",
    "\n",
    "We'll use mock data to simulate how these methods can be used to find common elements between datasets without revealing the actual data. \n",
    "\n",
    "Also a basic example of how this could be applied to a rdmf id - where we provide different ids across projects \n",
    "\n"
   ]
  },
  {
   "cell_type": "code",
   "execution_count": 2,
   "metadata": {
    "tags": []
   },
   "outputs": [],
   "source": [
    "import pandas as pd\n",
    "from google.cloud import bigquery\n",
    "from google.cloud import storage\n",
    "import io\n",
    "import hashlib"
   ]
  },
  {
   "cell_type": "markdown",
   "metadata": {},
   "source": [
    "Part 1. Bloom Filters are probabilistic data structures used to test whether an element is a member of a set. They are efficient in terms of space, but they can result in false positives.\n",
    "\n",
    "Bloom Filter and then use it to find common elements between two sets of data"
   ]
  },
  {
   "cell_type": "code",
   "execution_count": 3,
   "metadata": {
    "colab": {
     "base_uri": "https://localhost:8080/"
    },
    "id": "YBNRZQ1XCFxd",
    "outputId": "2d68478e-65ac-4e1c-f043-0ab9962bc6b3",
    "tags": []
   },
   "outputs": [
    {
     "data": {
      "text/plain": [
       "['Charlie', 'izzy', 'test']"
      ]
     },
     "execution_count": 3,
     "metadata": {},
     "output_type": "execute_result"
    }
   ],
   "source": [
    "def create_simple_bloom_filter(items, filter_size=100):\n",
    "    bloom_filter = [False] * filter_size\n",
    "    for item in items:\n",
    "        index = hash(item) % filter_size\n",
    "        bloom_filter[index] = True\n",
    "    return bloom_filter\n",
    "\n",
    "def is_in_bloom_filter(item, bloom_filter, filter_size=100):\n",
    "    index = hash(item) % filter_size\n",
    "    return bloom_filter[index]\n",
    "\n",
    "# Mock data\n",
    "names_hospital_a = [\"Alice\", \"Bob\", \"Charlie\", \"David\",\"izzy\",\"test\"]\n",
    "names_hospital_b = [\"Eva\", \"Frank\", \"Charlie\", \"Grace\",\"izzy\",\"test\"]\n",
    "\n",
    "# Creating Bloom Filters\n",
    "bloom_filter_a = create_simple_bloom_filter(names_hospital_a)\n",
    "bloom_filter_b = create_simple_bloom_filter(names_hospital_b)\n",
    "\n",
    "# Checking for common elements\n",
    "common_names = [name for name in names_hospital_b\n",
    "                if is_in_bloom_filter(name, bloom_filter_a)]\n",
    "\n",
    "common_names\n"
   ]
  },
  {
   "cell_type": "markdown",
   "metadata": {
    "id": "lBzhzBfgDOfJ"
   },
   "source": [
    "## Cryptographic Hashing Basics \n",
    "\n",
    "Cryptographic Hashing involves creating a unique, fixed-size string (hash) for each record. By comparing hashes, we can identify matching records without revealing the actual data."
   ]
  },
  {
   "cell_type": "code",
   "execution_count": 4,
   "metadata": {
    "colab": {
     "base_uri": "https://localhost:8080/"
    },
    "id": "k4UQg4WmDoda",
    "outputId": "b3deb687-3f97-4f7b-acca-34a748e2d613",
    "tags": []
   },
   "outputs": [
    {
     "name": "stdout",
     "output_type": "stream",
     "text": [
      "7c7b6b57db3880fc0b4157c962100103f388191c24cf816c726854d17a2af696\n"
     ]
    }
   ],
   "source": [
    "# Example string\n",
    "my_string = \"izzy\"\n",
    "\n",
    "# Creating a SHA256 hash of the string\n",
    "hash_object = hashlib.sha256(my_string.encode())\n",
    "hash_hex = hash_object.hexdigest()\n",
    "\n",
    "print(hash_hex)\n"
   ]
  },
  {
   "cell_type": "code",
   "execution_count": 5,
   "metadata": {
    "colab": {
     "base_uri": "https://localhost:8080/"
    },
    "id": "w1-x_-JHBgv-",
    "outputId": "a1026acc-f3e7-42e9-f642-3076a96246b3",
    "tags": []
   },
   "outputs": [
    {
     "data": {
      "text/plain": [
       "{'6e81b1255ad51bb201a2b8afa9b66653297ae0217f833b14b39b5231228bf968',\n",
       " '7c7b6b57db3880fc0b4157c962100103f388191c24cf816c726854d17a2af696',\n",
       " '9f86d081884c7d659a2feaa0c55ad015a3bf4f1b2b0b822cd15d6c15b0f00a08'}"
      ]
     },
     "execution_count": 5,
     "metadata": {},
     "output_type": "execute_result"
    }
   ],
   "source": [
    "def create_hashed_set(items):\n",
    "    return {hashlib.sha256(item.encode()).hexdigest() for item in items}\n",
    "\n",
    "# Hashing the data\n",
    "hashed_names_a = create_hashed_set(names_hospital_a)\n",
    "hashed_names_b = create_hashed_set(names_hospital_b)\n",
    "\n",
    "# Finding common hashes\n",
    "common_hashes = hashed_names_a.intersection(hashed_names_b)\n",
    "\n",
    "common_hashes\n"
   ]
  },
  {
   "cell_type": "code",
   "execution_count": 6,
   "metadata": {
    "tags": []
   },
   "outputs": [
    {
     "data": {
      "text/html": [
       "<div>\n",
       "<style scoped>\n",
       "    .dataframe tbody tr th:only-of-type {\n",
       "        vertical-align: middle;\n",
       "    }\n",
       "\n",
       "    .dataframe tbody tr th {\n",
       "        vertical-align: top;\n",
       "    }\n",
       "\n",
       "    .dataframe thead th {\n",
       "        text-align: right;\n",
       "    }\n",
       "</style>\n",
       "<table border=\"1\" class=\"dataframe\">\n",
       "  <thead>\n",
       "    <tr style=\"text-align: right;\">\n",
       "      <th></th>\n",
       "      <th>business_name</th>\n",
       "      <th>industry</th>\n",
       "      <th>data_change</th>\n",
       "      <th>original_creation_date</th>\n",
       "      <th>business_id</th>\n",
       "    </tr>\n",
       "  </thead>\n",
       "  <tbody>\n",
       "    <tr>\n",
       "      <th>0</th>\n",
       "      <td>Business 1</td>\n",
       "      <td>Technology</td>\n",
       "      <td>Yes</td>\n",
       "      <td>2023-01-01</td>\n",
       "      <td>1234567890123456</td>\n",
       "    </tr>\n",
       "    <tr>\n",
       "      <th>1</th>\n",
       "      <td>Business 2</td>\n",
       "      <td>Finance</td>\n",
       "      <td>No</td>\n",
       "      <td>2023-02-01</td>\n",
       "      <td>1234567890123457</td>\n",
       "    </tr>\n",
       "    <tr>\n",
       "      <th>2</th>\n",
       "      <td>Business 3</td>\n",
       "      <td>Healthcare</td>\n",
       "      <td>Yes</td>\n",
       "      <td>2023-03-01</td>\n",
       "      <td>1234567890123458</td>\n",
       "    </tr>\n",
       "    <tr>\n",
       "      <th>3</th>\n",
       "      <td>Business 4</td>\n",
       "      <td>Retail</td>\n",
       "      <td>No</td>\n",
       "      <td>2023-04-01</td>\n",
       "      <td>1234567890123459</td>\n",
       "    </tr>\n",
       "    <tr>\n",
       "      <th>4</th>\n",
       "      <td>Business 5</td>\n",
       "      <td>Education</td>\n",
       "      <td>Yes</td>\n",
       "      <td>2023-05-01</td>\n",
       "      <td>1234567890123460</td>\n",
       "    </tr>\n",
       "  </tbody>\n",
       "</table>\n",
       "</div>"
      ],
      "text/plain": [
       "  business_name    industry data_change original_creation_date  \\\n",
       "0    Business 1  Technology         Yes             2023-01-01   \n",
       "1    Business 2     Finance          No             2023-02-01   \n",
       "2    Business 3  Healthcare         Yes             2023-03-01   \n",
       "3    Business 4      Retail          No             2023-04-01   \n",
       "4    Business 5   Education         Yes             2023-05-01   \n",
       "\n",
       "        business_id  \n",
       "0  1234567890123456  \n",
       "1  1234567890123457  \n",
       "2  1234567890123458  \n",
       "3  1234567890123459  \n",
       "4  1234567890123460  "
      ]
     },
     "execution_count": 6,
     "metadata": {},
     "output_type": "execute_result"
    }
   ],
   "source": [
    "# Read the data from the blob as a DataFrame\n",
    "client = storage.Client()\n",
    "\n",
    "bucket_name = \"business_data_synthetic99\"\n",
    "blob_name = \"business_data.csv\"\n",
    "\n",
    "df = pd.read_csv(f\"gs://{bucket_name}/{blob_name}\")\n",
    "df.head()\n"
   ]
  },
  {
   "cell_type": "markdown",
   "metadata": {},
   "source": [
    "## Cryptographic Hashing - different ids for different customers \n",
    "Cryptographic Hashing involves creating a unique, fixed-size string (hash) for each record. By comparing hashes, we can identify matching records without revealing the actual data. The method includes the following steps:\n",
    "1. Create a hashed set for each dataset by applying a cryptographic hash function to the elements.\n",
    "2. Find common hashes between the datasets by intersecting the hashed sets.\n",
    "\n",
    "These techniques provide privacy-preserving record linkage by allowing the identification of common elements between datasets without revealing the actual data. It is important to note that in real-world applications, more sophisticated and secure methods would be used to handle larger datasets and mitigate privacy risks.\n"
   ]
  },
  {
   "cell_type": "code",
   "execution_count": 7,
   "metadata": {
    "tags": []
   },
   "outputs": [
    {
     "name": "stdout",
     "output_type": "stream",
     "text": [
      "54545415ad4742d84fa4acf087c9ce0a97c8b170b88250c816a7c79f9e3154d7\n"
     ]
    }
   ],
   "source": [
    "\n",
    "def generate_hash_key(project_name, input_data):\n",
    "    \"\"\"\n",
    "    Generates a hash key for secure record linkage.\n",
    "\n",
    "    Parameters:\n",
    "    project_name (str): The name of the project.\n",
    "    input_data (str): The input data to be hashed.\n",
    "\n",
    "    Returns:\n",
    "    str: The generated hash key.\n",
    "    \"\"\"\n",
    "    salt = project_name.encode()\n",
    "    input_data_with_salt = input_data.encode() + salt\n",
    "    hash_key = hashlib.sha256(input_data_with_salt).hexdigest()\n",
    "    return hash_key\n",
    "\n",
    "# Example usage\n",
    "project_name = \"MyProject\"\n",
    "input_data = \"secret_data\"\n",
    "\n",
    "hash_key = generate_hash_key(project_name, input_data)\n",
    "print(hash_key)\n"
   ]
  },
  {
   "cell_type": "code",
   "execution_count": 8,
   "metadata": {
    "tags": []
   },
   "outputs": [],
   "source": [
    "\n",
    "# Create the first dataframe\n",
    "df_customer1 = df.copy()\n",
    "df_customer1['business_id'] = df_customer1['business_id'].apply(lambda x: hashlib.sha256((str(x) + 'salt_customer1').encode()).hexdigest())\n",
    "\n",
    "# Create the second dataframe\n",
    "df_customer2 = df.copy()\n",
    "df_customer2['business_id'] = df_customer2['business_id'].apply(lambda x: hashlib.sha256((str(x) + 'salt_customer2').encode()).hexdigest())\n"
   ]
  },
  {
   "cell_type": "code",
   "execution_count": 9,
   "metadata": {
    "tags": []
   },
   "outputs": [
    {
     "data": {
      "text/html": [
       "<div>\n",
       "<style scoped>\n",
       "    .dataframe tbody tr th:only-of-type {\n",
       "        vertical-align: middle;\n",
       "    }\n",
       "\n",
       "    .dataframe tbody tr th {\n",
       "        vertical-align: top;\n",
       "    }\n",
       "\n",
       "    .dataframe thead th {\n",
       "        text-align: right;\n",
       "    }\n",
       "</style>\n",
       "<table border=\"1\" class=\"dataframe\">\n",
       "  <thead>\n",
       "    <tr style=\"text-align: right;\">\n",
       "      <th></th>\n",
       "      <th>business_name</th>\n",
       "      <th>industry</th>\n",
       "      <th>data_change</th>\n",
       "      <th>original_creation_date</th>\n",
       "      <th>business_id</th>\n",
       "    </tr>\n",
       "  </thead>\n",
       "  <tbody>\n",
       "    <tr>\n",
       "      <th>0</th>\n",
       "      <td>Business 1</td>\n",
       "      <td>Technology</td>\n",
       "      <td>Yes</td>\n",
       "      <td>2023-01-01</td>\n",
       "      <td>32488c724473b54b0b1cac22766670c06e3126c86c4398...</td>\n",
       "    </tr>\n",
       "    <tr>\n",
       "      <th>1</th>\n",
       "      <td>Business 2</td>\n",
       "      <td>Finance</td>\n",
       "      <td>No</td>\n",
       "      <td>2023-02-01</td>\n",
       "      <td>382d7039f5bf377fb07b55cac8b7e8da2f849c496923d4...</td>\n",
       "    </tr>\n",
       "    <tr>\n",
       "      <th>2</th>\n",
       "      <td>Business 3</td>\n",
       "      <td>Healthcare</td>\n",
       "      <td>Yes</td>\n",
       "      <td>2023-03-01</td>\n",
       "      <td>bd8cbf6227c0aeed6a804eca05959ff44efb37c02e5cac...</td>\n",
       "    </tr>\n",
       "    <tr>\n",
       "      <th>3</th>\n",
       "      <td>Business 4</td>\n",
       "      <td>Retail</td>\n",
       "      <td>No</td>\n",
       "      <td>2023-04-01</td>\n",
       "      <td>57e837fb8ccbdfde4f3a2f6dc38d40c5bd20723b30bbe8...</td>\n",
       "    </tr>\n",
       "    <tr>\n",
       "      <th>4</th>\n",
       "      <td>Business 5</td>\n",
       "      <td>Education</td>\n",
       "      <td>Yes</td>\n",
       "      <td>2023-05-01</td>\n",
       "      <td>a7129a8ddcb13e6cc10f326e557ca8b9b6f0cbe54c49d4...</td>\n",
       "    </tr>\n",
       "    <tr>\n",
       "      <th>5</th>\n",
       "      <td>Business 6</td>\n",
       "      <td>Manufacturing</td>\n",
       "      <td>No</td>\n",
       "      <td>2023-06-01</td>\n",
       "      <td>579239b07af008c987ce2b54d4d87f2ada9e235382b9a1...</td>\n",
       "    </tr>\n",
       "    <tr>\n",
       "      <th>6</th>\n",
       "      <td>Business 7</td>\n",
       "      <td>Construction</td>\n",
       "      <td>Yes</td>\n",
       "      <td>2023-07-01</td>\n",
       "      <td>2afcb51da27dcaf041837d00553aebdca60d9b10a881a5...</td>\n",
       "    </tr>\n",
       "    <tr>\n",
       "      <th>7</th>\n",
       "      <td>Business 8</td>\n",
       "      <td>Hospitality</td>\n",
       "      <td>No</td>\n",
       "      <td>2023-08-01</td>\n",
       "      <td>8c4520975c559e33dd652ad2fec70ff7ac07710cdd2acc...</td>\n",
       "    </tr>\n",
       "    <tr>\n",
       "      <th>8</th>\n",
       "      <td>Business 9</td>\n",
       "      <td>Transportation</td>\n",
       "      <td>Yes</td>\n",
       "      <td>2023-09-01</td>\n",
       "      <td>d6f6527b893507144cd38862e6a7592c0e15a877d684cc...</td>\n",
       "    </tr>\n",
       "    <tr>\n",
       "      <th>9</th>\n",
       "      <td>Business 10</td>\n",
       "      <td>Utilities</td>\n",
       "      <td>No</td>\n",
       "      <td>2023-10-01</td>\n",
       "      <td>92ade10db845a857752c3ac0e91a59ebc8827de69af65b...</td>\n",
       "    </tr>\n",
       "  </tbody>\n",
       "</table>\n",
       "</div>"
      ],
      "text/plain": [
       "  business_name        industry data_change original_creation_date  \\\n",
       "0    Business 1      Technology         Yes             2023-01-01   \n",
       "1    Business 2         Finance          No             2023-02-01   \n",
       "2    Business 3      Healthcare         Yes             2023-03-01   \n",
       "3    Business 4          Retail          No             2023-04-01   \n",
       "4    Business 5       Education         Yes             2023-05-01   \n",
       "5    Business 6   Manufacturing          No             2023-06-01   \n",
       "6    Business 7    Construction         Yes             2023-07-01   \n",
       "7    Business 8     Hospitality          No             2023-08-01   \n",
       "8    Business 9  Transportation         Yes             2023-09-01   \n",
       "9   Business 10       Utilities          No             2023-10-01   \n",
       "\n",
       "                                         business_id  \n",
       "0  32488c724473b54b0b1cac22766670c06e3126c86c4398...  \n",
       "1  382d7039f5bf377fb07b55cac8b7e8da2f849c496923d4...  \n",
       "2  bd8cbf6227c0aeed6a804eca05959ff44efb37c02e5cac...  \n",
       "3  57e837fb8ccbdfde4f3a2f6dc38d40c5bd20723b30bbe8...  \n",
       "4  a7129a8ddcb13e6cc10f326e557ca8b9b6f0cbe54c49d4...  \n",
       "5  579239b07af008c987ce2b54d4d87f2ada9e235382b9a1...  \n",
       "6  2afcb51da27dcaf041837d00553aebdca60d9b10a881a5...  \n",
       "7  8c4520975c559e33dd652ad2fec70ff7ac07710cdd2acc...  \n",
       "8  d6f6527b893507144cd38862e6a7592c0e15a877d684cc...  \n",
       "9  92ade10db845a857752c3ac0e91a59ebc8827de69af65b...  "
      ]
     },
     "execution_count": 9,
     "metadata": {},
     "output_type": "execute_result"
    }
   ],
   "source": [
    "df_customer1"
   ]
  },
  {
   "cell_type": "code",
   "execution_count": 10,
   "metadata": {
    "tags": []
   },
   "outputs": [
    {
     "data": {
      "text/html": [
       "<div>\n",
       "<style scoped>\n",
       "    .dataframe tbody tr th:only-of-type {\n",
       "        vertical-align: middle;\n",
       "    }\n",
       "\n",
       "    .dataframe tbody tr th {\n",
       "        vertical-align: top;\n",
       "    }\n",
       "\n",
       "    .dataframe thead th {\n",
       "        text-align: right;\n",
       "    }\n",
       "</style>\n",
       "<table border=\"1\" class=\"dataframe\">\n",
       "  <thead>\n",
       "    <tr style=\"text-align: right;\">\n",
       "      <th></th>\n",
       "      <th>business_name</th>\n",
       "      <th>industry</th>\n",
       "      <th>data_change</th>\n",
       "      <th>original_creation_date</th>\n",
       "      <th>business_id</th>\n",
       "    </tr>\n",
       "  </thead>\n",
       "  <tbody>\n",
       "    <tr>\n",
       "      <th>0</th>\n",
       "      <td>Business 1</td>\n",
       "      <td>Technology</td>\n",
       "      <td>Yes</td>\n",
       "      <td>2023-01-01</td>\n",
       "      <td>be2ce3956f1c02aa517f5cd7b3c398a21396d954750ac0...</td>\n",
       "    </tr>\n",
       "    <tr>\n",
       "      <th>1</th>\n",
       "      <td>Business 2</td>\n",
       "      <td>Finance</td>\n",
       "      <td>No</td>\n",
       "      <td>2023-02-01</td>\n",
       "      <td>f3375fd0bdc50c7bf7a5d9e3ead6dae7b1958054d6ccf0...</td>\n",
       "    </tr>\n",
       "    <tr>\n",
       "      <th>2</th>\n",
       "      <td>Business 3</td>\n",
       "      <td>Healthcare</td>\n",
       "      <td>Yes</td>\n",
       "      <td>2023-03-01</td>\n",
       "      <td>12ad37a30ce8330c8c2666a3ee5c41a0530d69ae7f953f...</td>\n",
       "    </tr>\n",
       "    <tr>\n",
       "      <th>3</th>\n",
       "      <td>Business 4</td>\n",
       "      <td>Retail</td>\n",
       "      <td>No</td>\n",
       "      <td>2023-04-01</td>\n",
       "      <td>464089169b244ba4a5c1fc5504b078514e5899f1848322...</td>\n",
       "    </tr>\n",
       "    <tr>\n",
       "      <th>4</th>\n",
       "      <td>Business 5</td>\n",
       "      <td>Education</td>\n",
       "      <td>Yes</td>\n",
       "      <td>2023-05-01</td>\n",
       "      <td>2ae235709b62e65ff4bf3e9fcba2b36a7795bcf7c5993f...</td>\n",
       "    </tr>\n",
       "    <tr>\n",
       "      <th>5</th>\n",
       "      <td>Business 6</td>\n",
       "      <td>Manufacturing</td>\n",
       "      <td>No</td>\n",
       "      <td>2023-06-01</td>\n",
       "      <td>896aac8ebd375dd27dd80b6b30a2b653a34b1c5a7b2559...</td>\n",
       "    </tr>\n",
       "    <tr>\n",
       "      <th>6</th>\n",
       "      <td>Business 7</td>\n",
       "      <td>Construction</td>\n",
       "      <td>Yes</td>\n",
       "      <td>2023-07-01</td>\n",
       "      <td>5272d325734e2236b5a79cc7e70322af3515590e10f533...</td>\n",
       "    </tr>\n",
       "    <tr>\n",
       "      <th>7</th>\n",
       "      <td>Business 8</td>\n",
       "      <td>Hospitality</td>\n",
       "      <td>No</td>\n",
       "      <td>2023-08-01</td>\n",
       "      <td>460d2374210f8430ec69d7b2c813cea6ea8be251801cbc...</td>\n",
       "    </tr>\n",
       "    <tr>\n",
       "      <th>8</th>\n",
       "      <td>Business 9</td>\n",
       "      <td>Transportation</td>\n",
       "      <td>Yes</td>\n",
       "      <td>2023-09-01</td>\n",
       "      <td>a571b2e879671e7407cd302db031a0b85c213f25fd7bab...</td>\n",
       "    </tr>\n",
       "    <tr>\n",
       "      <th>9</th>\n",
       "      <td>Business 10</td>\n",
       "      <td>Utilities</td>\n",
       "      <td>No</td>\n",
       "      <td>2023-10-01</td>\n",
       "      <td>be5c5170c8e7fdbefe80b3d6387af5c2014e204ef8b150...</td>\n",
       "    </tr>\n",
       "  </tbody>\n",
       "</table>\n",
       "</div>"
      ],
      "text/plain": [
       "  business_name        industry data_change original_creation_date  \\\n",
       "0    Business 1      Technology         Yes             2023-01-01   \n",
       "1    Business 2         Finance          No             2023-02-01   \n",
       "2    Business 3      Healthcare         Yes             2023-03-01   \n",
       "3    Business 4          Retail          No             2023-04-01   \n",
       "4    Business 5       Education         Yes             2023-05-01   \n",
       "5    Business 6   Manufacturing          No             2023-06-01   \n",
       "6    Business 7    Construction         Yes             2023-07-01   \n",
       "7    Business 8     Hospitality          No             2023-08-01   \n",
       "8    Business 9  Transportation         Yes             2023-09-01   \n",
       "9   Business 10       Utilities          No             2023-10-01   \n",
       "\n",
       "                                         business_id  \n",
       "0  be2ce3956f1c02aa517f5cd7b3c398a21396d954750ac0...  \n",
       "1  f3375fd0bdc50c7bf7a5d9e3ead6dae7b1958054d6ccf0...  \n",
       "2  12ad37a30ce8330c8c2666a3ee5c41a0530d69ae7f953f...  \n",
       "3  464089169b244ba4a5c1fc5504b078514e5899f1848322...  \n",
       "4  2ae235709b62e65ff4bf3e9fcba2b36a7795bcf7c5993f...  \n",
       "5  896aac8ebd375dd27dd80b6b30a2b653a34b1c5a7b2559...  \n",
       "6  5272d325734e2236b5a79cc7e70322af3515590e10f533...  \n",
       "7  460d2374210f8430ec69d7b2c813cea6ea8be251801cbc...  \n",
       "8  a571b2e879671e7407cd302db031a0b85c213f25fd7bab...  \n",
       "9  be5c5170c8e7fdbefe80b3d6387af5c2014e204ef8b150...  "
      ]
     },
     "execution_count": 10,
     "metadata": {},
     "output_type": "execute_result"
    }
   ],
   "source": [
    "df_customer2"
   ]
  },
  {
   "cell_type": "markdown",
   "metadata": {
    "id": "6umIx564EGiw"
   },
   "source": [
    "This notebook provides a basic illustration of using Bloom Filters and Cryptographic Hashing for privacy-preserving record linkage. In real-world applications, more sophisticated and secure methods would be used, especially to handle larger datasets and mitigate privacy risks such as false positives in Bloom Filters and potential vulnerabilities in hash functions"
   ]
  },
  {
   "cell_type": "markdown",
   "metadata": {},
   "source": [
    "# Differential Privacy\n",
    "\n",
    "Differential privacy is a concept in data privacy that aims to protect the privacy of individuals while allowing for the analysis of aggregate data. It provides a mathematical framework for quantifying the privacy guarantees of a data analysis algorithm.\n",
    "\n",
    "The main idea behind differential privacy is to add noise to the output of a query or computation in such a way that the privacy of individual data points is preserved. This noise ensures that the output of the computation does not reveal sensitive information about any specific individual.\n",
    "\n",
    "By incorporating differential privacy techniques, organisations can perform data analysis and share aggregated results without compromising the privacy of individuals. This is particularly important in scenarios where data contains sensitive information, such as healthcare records or personal financial data.\n",
    "\n",
    "Differential privacy offers a rigorous and principled approach to balancing data utility and privacy protection. It provides a privacy budget that quantifies the amount of privacy loss allowed for a given analysis, allowing organizations to control the trade-off between privacy and data accuracy.\n",
    "\n",
    "Overall, differential privacy is a powerful tool for ensuring privacy in data analysis and enabling responsible data sharing practices.\n"
   ]
  },
  {
   "cell_type": "code",
   "execution_count": 6,
   "metadata": {},
   "outputs": [
    {
     "data": {
      "text/plain": [
       "[-0.10203108810440686,\n",
       " 1.0350905733006912,\n",
       " 5.452744928487135,\n",
       " 3.702675202209278,\n",
       " 8.201822873853132]"
      ]
     },
     "execution_count": 6,
     "metadata": {},
     "output_type": "execute_result"
    }
   ],
   "source": [
    "import numpy as np\n",
    "\n",
    "# Original dataset\n",
    "data = [1, 2, 3, 4, 5]\n",
    "\n",
    "# Sensitivity of the dataset\n",
    "sensitivity = 1\n",
    "\n",
    "# Privacy parameter\n",
    "epsilon = 0.5\n",
    "\n",
    "# Add Laplace noise to the dataset\n",
    "noisy_data = [x + np.random.laplace(0, sensitivity / epsilon) for x in data]\n",
    "\n",
    "noisy_data\n"
   ]
  },
  {
   "cell_type": "code",
   "execution_count": 7,
   "metadata": {},
   "outputs": [
    {
     "data": {
      "text/plain": [
       "{'A': 0.9748259299708666,\n",
       " 'B': 1.0502957833191793,\n",
       " 'C': 1.4047421083368967,\n",
       " 'D': -4.069501849148417,\n",
       " 'E': -4.736197124500159}"
      ]
     },
     "execution_count": 7,
     "metadata": {},
     "output_type": "execute_result"
    }
   ],
   "source": [
    "import numpy as np\n",
    "\n",
    "# Original dataset\n",
    "data = ['A', 'B', 'C', 'D', 'E']\n",
    "\n",
    "# Sensitivity of the dataset\n",
    "sensitivity = 1\n",
    "\n",
    "# Privacy parameter\n",
    "epsilon = 0.5\n",
    "\n",
    "# Create a dictionary to store the counts of each category\n",
    "category_counts = {}\n",
    "\n",
    "# Count the occurrences of each category in the dataset\n",
    "for category in data:\n",
    "    if category in category_counts:\n",
    "        category_counts[category] += 1\n",
    "    else:\n",
    "        category_counts[category] = 1\n",
    "\n",
    "# Add Laplace noise to the counts of each category\n",
    "noisy_category_counts = {}\n",
    "for category, count in category_counts.items():\n",
    "    noisy_count = count + np.random.laplace(0, sensitivity / epsilon)\n",
    "    noisy_category_counts[category] = noisy_count\n",
    "\n",
    "noisy_category_counts\n"
   ]
  },
  {
   "cell_type": "markdown",
   "metadata": {},
   "source": [
    "# Homomorphic Encryption \n"
   ]
  },
  {
   "cell_type": "markdown",
   "metadata": {},
   "source": [
    "Note this doesnt work - tricky install. but im leaving it here as an idea "
   ]
  },
  {
   "cell_type": "code",
   "execution_count": 2,
   "metadata": {},
   "outputs": [
    {
     "ename": "ModuleNotFoundError",
     "evalue": "No module named 'seal'",
     "output_type": "error",
     "traceback": [
      "\u001b[0;31m---------------------------------------------------------------------------\u001b[0m",
      "\u001b[0;31mModuleNotFoundError\u001b[0m                       Traceback (most recent call last)",
      "Cell \u001b[0;32mIn[2], line 1\u001b[0m\n\u001b[0;32m----> 1\u001b[0m \u001b[38;5;28;01mimport\u001b[39;00m \u001b[38;5;21;01mseal\u001b[39;00m\n\u001b[1;32m      3\u001b[0m \u001b[38;5;66;03m# Create a SEAL context\u001b[39;00m\n\u001b[1;32m      4\u001b[0m context \u001b[38;5;241m=\u001b[39m seal\u001b[38;5;241m.\u001b[39mEncryptionParameters(seal\u001b[38;5;241m.\u001b[39mscheme_type\u001b[38;5;241m.\u001b[39mBFV)\n",
      "\u001b[0;31mModuleNotFoundError\u001b[0m: No module named 'seal'"
     ]
    }
   ],
   "source": [
    "import seal\n",
    "\n",
    "# Create a SEAL context\n",
    "context = seal.EncryptionParameters(seal.scheme_type.BFV)\n",
    "context.set_poly_modulus_degree(4096)\n",
    "context.set_coeff_modulus(seal.CoeffModulus.BFVDefault(4096))\n",
    "context.set_plain_modulus(1 << 8)\n",
    "\n",
    "# Generate keys\n",
    "keygen = seal.KeyGenerator(context)\n",
    "public_key = keygen.public_key()\n",
    "secret_key = keygen.secret_key()\n",
    "\n",
    "# Encrypt data\n",
    "encryptor = seal.Encryptor(context, public_key)\n",
    "encrypted_data = seal.Ciphertext()\n",
    "encryptor.encrypt(seal.Plaintext(\"42\"), encrypted_data)\n",
    "\n",
    "# Perform computation on encrypted data\n",
    "evaluator = seal.Evaluator(context)\n",
    "encrypted_result = seal.Ciphertext()\n",
    "evaluator.square(encrypted_data, encrypted_result)\n",
    "\n",
    "# Decrypt the result\n",
    "decryptor = seal.Decryptor(context, secret_key)\n",
    "plain_result = seal.Plaintext()\n",
    "decryptor.decrypt(encrypted_result, plain_result)\n",
    "\n",
    "# Print the decrypted result\n",
    "print(plain_result.to_string())\n"
   ]
  },
  {
   "cell_type": "code",
   "execution_count": null,
   "metadata": {},
   "outputs": [],
   "source": []
  }
 ],
 "metadata": {
  "colab": {
   "authorship_tag": "ABX9TyOwsab4hfRPAv9445vH5Y8p",
   "include_colab_link": true,
   "provenance": []
  },
  "kernelspec": {
   "display_name": "Python (Local)",
   "language": "python",
   "name": "base"
  },
  "language_info": {
   "codemirror_mode": {
    "name": "ipython",
    "version": 3
   },
   "file_extension": ".py",
   "mimetype": "text/x-python",
   "name": "python",
   "nbconvert_exporter": "python",
   "pygments_lexer": "ipython3",
   "version": "3.10.13"
  }
 },
 "nbformat": 4,
 "nbformat_minor": 4
}
